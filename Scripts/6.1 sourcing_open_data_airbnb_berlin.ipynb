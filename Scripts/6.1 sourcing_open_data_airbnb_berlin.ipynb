{
 "cells": [
  {
   "cell_type": "markdown",
   "id": "e5a1ebda",
   "metadata": {},
   "source": [
    "# Case Study Project - Airbnb Berlin\n",
    "# Table of Contents\n",
    "## 1. Import libraries\n",
    "## 2. Import Data\n",
    "## 3. Data Wrangling\n",
    "## 4. Data Cleaning and Consistency Check\n",
    "- check for missing data\n",
    "- check for duplicates\n",
    "- check for mixed data types \n",
    "\n",
    "## 5. Export Data"
   ]
  },
  {
   "cell_type": "markdown",
   "id": "08147877",
   "metadata": {},
   "source": [
    "# 01. Import Libraries"
   ]
  },
  {
   "cell_type": "code",
   "execution_count": 23,
   "id": "b6711324",
   "metadata": {},
   "outputs": [],
   "source": [
    "import pandas as pd\n",
    "import numpy as np\n",
    "import os"
   ]
  },
  {
   "cell_type": "markdown",
   "id": "85a21340",
   "metadata": {},
   "source": [
    "# 02. Import Data"
   ]
  },
  {
   "cell_type": "code",
   "execution_count": 24,
   "id": "6ee7fcf5",
   "metadata": {},
   "outputs": [],
   "source": [
    "# creating a path\n",
    "path = r'/Users/sudip/Desktop/DATA ANALYST/Projects/Project 6/Data'"
   ]
  },
  {
   "cell_type": "code",
   "execution_count": 25,
   "id": "d8cc8362",
   "metadata": {},
   "outputs": [],
   "source": [
    "# importing dataset\n",
    "df = pd.read_csv(os.path.join(path, 'Original Data', 'airbnb_berlin', 'listings.csv'), index_col = False)"
   ]
  },
  {
   "cell_type": "markdown",
   "id": "0eee3566",
   "metadata": {},
   "source": [
    "# 03 Data Wrangling"
   ]
  },
  {
   "cell_type": "code",
   "execution_count": 26,
   "id": "69a23cb4",
   "metadata": {},
   "outputs": [
    {
     "data": {
      "text/plain": [
       "(16416, 18)"
      ]
     },
     "execution_count": 26,
     "metadata": {},
     "output_type": "execute_result"
    }
   ],
   "source": [
    "# Checking shape\n",
    "df.shape"
   ]
  },
  {
   "cell_type": "code",
   "execution_count": 27,
   "id": "c1ab9f24",
   "metadata": {},
   "outputs": [
    {
     "data": {
      "text/plain": [
       "id                                  int64\n",
       "name                               object\n",
       "host_id                             int64\n",
       "host_name                          object\n",
       "neighbourhood_group                object\n",
       "neighbourhood                      object\n",
       "latitude                          float64\n",
       "longitude                         float64\n",
       "room_type                          object\n",
       "price                               int64\n",
       "minimum_nights                      int64\n",
       "number_of_reviews                   int64\n",
       "last_review                        object\n",
       "reviews_per_month                 float64\n",
       "calculated_host_listings_count      int64\n",
       "availability_365                    int64\n",
       "number_of_reviews_ltm               int64\n",
       "license                            object\n",
       "dtype: object"
      ]
     },
     "execution_count": 27,
     "metadata": {},
     "output_type": "execute_result"
    }
   ],
   "source": [
    "# checking data types\n",
    "df.dtypes"
   ]
  },
  {
   "cell_type": "code",
   "execution_count": 28,
   "id": "d3030625",
   "metadata": {},
   "outputs": [
    {
     "name": "stdout",
     "output_type": "stream",
     "text": [
      "<class 'pandas.core.frame.DataFrame'>\n",
      "RangeIndex: 16416 entries, 0 to 16415\n",
      "Data columns (total 18 columns):\n",
      " #   Column                          Non-Null Count  Dtype  \n",
      "---  ------                          --------------  -----  \n",
      " 0   id                              16416 non-null  int64  \n",
      " 1   name                            16392 non-null  object \n",
      " 2   host_id                         16416 non-null  int64  \n",
      " 3   host_name                       16406 non-null  object \n",
      " 4   neighbourhood_group             16416 non-null  object \n",
      " 5   neighbourhood                   16416 non-null  object \n",
      " 6   latitude                        16416 non-null  float64\n",
      " 7   longitude                       16416 non-null  float64\n",
      " 8   room_type                       16416 non-null  object \n",
      " 9   price                           16416 non-null  int64  \n",
      " 10  minimum_nights                  16416 non-null  int64  \n",
      " 11  number_of_reviews               16416 non-null  int64  \n",
      " 12  last_review                     13533 non-null  object \n",
      " 13  reviews_per_month               13533 non-null  float64\n",
      " 14  calculated_host_listings_count  16416 non-null  int64  \n",
      " 15  availability_365                16416 non-null  int64  \n",
      " 16  number_of_reviews_ltm           16416 non-null  int64  \n",
      " 17  license                         4983 non-null   object \n",
      "dtypes: float64(3), int64(8), object(7)\n",
      "memory usage: 2.3+ MB\n"
     ]
    }
   ],
   "source": [
    "# checking the information of each column\n",
    "df.info()"
   ]
  },
  {
   "cell_type": "code",
   "execution_count": 29,
   "id": "bb311f2d",
   "metadata": {},
   "outputs": [
    {
     "data": {
      "text/html": [
       "<div>\n",
       "<style scoped>\n",
       "    .dataframe tbody tr th:only-of-type {\n",
       "        vertical-align: middle;\n",
       "    }\n",
       "\n",
       "    .dataframe tbody tr th {\n",
       "        vertical-align: top;\n",
       "    }\n",
       "\n",
       "    .dataframe thead th {\n",
       "        text-align: right;\n",
       "    }\n",
       "</style>\n",
       "<table border=\"1\" class=\"dataframe\">\n",
       "  <thead>\n",
       "    <tr style=\"text-align: right;\">\n",
       "      <th></th>\n",
       "      <th>id</th>\n",
       "      <th>host_id</th>\n",
       "      <th>latitude</th>\n",
       "      <th>longitude</th>\n",
       "      <th>price</th>\n",
       "      <th>minimum_nights</th>\n",
       "      <th>number_of_reviews</th>\n",
       "      <th>reviews_per_month</th>\n",
       "      <th>calculated_host_listings_count</th>\n",
       "      <th>availability_365</th>\n",
       "      <th>number_of_reviews_ltm</th>\n",
       "    </tr>\n",
       "  </thead>\n",
       "  <tbody>\n",
       "    <tr>\n",
       "      <th>count</th>\n",
       "      <td>1.641600e+04</td>\n",
       "      <td>1.641600e+04</td>\n",
       "      <td>16416.000000</td>\n",
       "      <td>16416.000000</td>\n",
       "      <td>16416.000000</td>\n",
       "      <td>16416.000000</td>\n",
       "      <td>16416.000000</td>\n",
       "      <td>13533.000000</td>\n",
       "      <td>16416.000000</td>\n",
       "      <td>16416.000000</td>\n",
       "      <td>16416.000000</td>\n",
       "    </tr>\n",
       "    <tr>\n",
       "      <th>mean</th>\n",
       "      <td>2.613804e+16</td>\n",
       "      <td>1.006091e+08</td>\n",
       "      <td>52.509612</td>\n",
       "      <td>13.404221</td>\n",
       "      <td>85.764559</td>\n",
       "      <td>11.463024</td>\n",
       "      <td>26.155032</td>\n",
       "      <td>0.770905</td>\n",
       "      <td>3.151803</td>\n",
       "      <td>78.865192</td>\n",
       "      <td>5.763523</td>\n",
       "    </tr>\n",
       "    <tr>\n",
       "      <th>std</th>\n",
       "      <td>1.220472e+17</td>\n",
       "      <td>1.184267e+08</td>\n",
       "      <td>0.035503</td>\n",
       "      <td>0.069988</td>\n",
       "      <td>104.924635</td>\n",
       "      <td>37.378188</td>\n",
       "      <td>59.065977</td>\n",
       "      <td>1.612770</td>\n",
       "      <td>6.719214</td>\n",
       "      <td>115.215045</td>\n",
       "      <td>19.405979</td>\n",
       "    </tr>\n",
       "    <tr>\n",
       "      <th>min</th>\n",
       "      <td>3.176000e+03</td>\n",
       "      <td>1.581000e+03</td>\n",
       "      <td>52.321950</td>\n",
       "      <td>13.072850</td>\n",
       "      <td>0.000000</td>\n",
       "      <td>1.000000</td>\n",
       "      <td>0.000000</td>\n",
       "      <td>0.010000</td>\n",
       "      <td>1.000000</td>\n",
       "      <td>0.000000</td>\n",
       "      <td>0.000000</td>\n",
       "    </tr>\n",
       "    <tr>\n",
       "      <th>25%</th>\n",
       "      <td>1.270874e+07</td>\n",
       "      <td>1.241388e+07</td>\n",
       "      <td>52.489317</td>\n",
       "      <td>13.367260</td>\n",
       "      <td>39.000000</td>\n",
       "      <td>2.000000</td>\n",
       "      <td>1.000000</td>\n",
       "      <td>0.080000</td>\n",
       "      <td>1.000000</td>\n",
       "      <td>0.000000</td>\n",
       "      <td>0.000000</td>\n",
       "    </tr>\n",
       "    <tr>\n",
       "      <th>50%</th>\n",
       "      <td>2.481971e+07</td>\n",
       "      <td>4.537750e+07</td>\n",
       "      <td>52.509770</td>\n",
       "      <td>13.414405</td>\n",
       "      <td>60.000000</td>\n",
       "      <td>3.000000</td>\n",
       "      <td>5.000000</td>\n",
       "      <td>0.260000</td>\n",
       "      <td>1.000000</td>\n",
       "      <td>0.000000</td>\n",
       "      <td>0.000000</td>\n",
       "    </tr>\n",
       "    <tr>\n",
       "      <th>75%</th>\n",
       "      <td>4.094544e+07</td>\n",
       "      <td>1.543070e+08</td>\n",
       "      <td>52.533140</td>\n",
       "      <td>13.439312</td>\n",
       "      <td>100.000000</td>\n",
       "      <td>5.000000</td>\n",
       "      <td>21.000000</td>\n",
       "      <td>0.900000</td>\n",
       "      <td>2.000000</td>\n",
       "      <td>158.000000</td>\n",
       "      <td>4.000000</td>\n",
       "    </tr>\n",
       "    <tr>\n",
       "      <th>max</th>\n",
       "      <td>6.471177e+17</td>\n",
       "      <td>4.633970e+08</td>\n",
       "      <td>52.673960</td>\n",
       "      <td>13.769390</td>\n",
       "      <td>4060.000000</td>\n",
       "      <td>1124.000000</td>\n",
       "      <td>1269.000000</td>\n",
       "      <td>86.910000</td>\n",
       "      <td>50.000000</td>\n",
       "      <td>365.000000</td>\n",
       "      <td>1049.000000</td>\n",
       "    </tr>\n",
       "  </tbody>\n",
       "</table>\n",
       "</div>"
      ],
      "text/plain": [
       "                 id       host_id      latitude     longitude         price  \\\n",
       "count  1.641600e+04  1.641600e+04  16416.000000  16416.000000  16416.000000   \n",
       "mean   2.613804e+16  1.006091e+08     52.509612     13.404221     85.764559   \n",
       "std    1.220472e+17  1.184267e+08      0.035503      0.069988    104.924635   \n",
       "min    3.176000e+03  1.581000e+03     52.321950     13.072850      0.000000   \n",
       "25%    1.270874e+07  1.241388e+07     52.489317     13.367260     39.000000   \n",
       "50%    2.481971e+07  4.537750e+07     52.509770     13.414405     60.000000   \n",
       "75%    4.094544e+07  1.543070e+08     52.533140     13.439312    100.000000   \n",
       "max    6.471177e+17  4.633970e+08     52.673960     13.769390   4060.000000   \n",
       "\n",
       "       minimum_nights  number_of_reviews  reviews_per_month  \\\n",
       "count    16416.000000       16416.000000       13533.000000   \n",
       "mean        11.463024          26.155032           0.770905   \n",
       "std         37.378188          59.065977           1.612770   \n",
       "min          1.000000           0.000000           0.010000   \n",
       "25%          2.000000           1.000000           0.080000   \n",
       "50%          3.000000           5.000000           0.260000   \n",
       "75%          5.000000          21.000000           0.900000   \n",
       "max       1124.000000        1269.000000          86.910000   \n",
       "\n",
       "       calculated_host_listings_count  availability_365  number_of_reviews_ltm  \n",
       "count                    16416.000000      16416.000000           16416.000000  \n",
       "mean                         3.151803         78.865192               5.763523  \n",
       "std                          6.719214        115.215045              19.405979  \n",
       "min                          1.000000          0.000000               0.000000  \n",
       "25%                          1.000000          0.000000               0.000000  \n",
       "50%                          1.000000          0.000000               0.000000  \n",
       "75%                          2.000000        158.000000               4.000000  \n",
       "max                         50.000000        365.000000            1049.000000  "
      ]
     },
     "execution_count": 29,
     "metadata": {},
     "output_type": "execute_result"
    }
   ],
   "source": [
    "df.describe()"
   ]
  },
  {
   "cell_type": "code",
   "execution_count": 30,
   "id": "6568d026",
   "metadata": {},
   "outputs": [
    {
     "data": {
      "text/html": [
       "<div>\n",
       "<style scoped>\n",
       "    .dataframe tbody tr th:only-of-type {\n",
       "        vertical-align: middle;\n",
       "    }\n",
       "\n",
       "    .dataframe tbody tr th {\n",
       "        vertical-align: top;\n",
       "    }\n",
       "\n",
       "    .dataframe thead th {\n",
       "        text-align: right;\n",
       "    }\n",
       "</style>\n",
       "<table border=\"1\" class=\"dataframe\">\n",
       "  <thead>\n",
       "    <tr style=\"text-align: right;\">\n",
       "      <th></th>\n",
       "      <th>id</th>\n",
       "      <th>name</th>\n",
       "      <th>host_id</th>\n",
       "      <th>host_name</th>\n",
       "      <th>neighbourhood_group</th>\n",
       "      <th>neighbourhood</th>\n",
       "      <th>latitude</th>\n",
       "      <th>longitude</th>\n",
       "      <th>room_type</th>\n",
       "      <th>price</th>\n",
       "      <th>minimum_nights</th>\n",
       "      <th>number_of_reviews</th>\n",
       "      <th>last_review</th>\n",
       "      <th>reviews_per_month</th>\n",
       "      <th>calculated_host_listings_count</th>\n",
       "      <th>availability_365</th>\n",
       "      <th>number_of_reviews_ltm</th>\n",
       "      <th>license</th>\n",
       "    </tr>\n",
       "  </thead>\n",
       "  <tbody>\n",
       "    <tr>\n",
       "      <th>0</th>\n",
       "      <td>39971294</td>\n",
       "      <td>Cozy flat with chimney</td>\n",
       "      <td>21565256</td>\n",
       "      <td>Tanja</td>\n",
       "      <td>Friedrichshain-Kreuzberg</td>\n",
       "      <td>nördliche Luisenstadt</td>\n",
       "      <td>52.501680</td>\n",
       "      <td>13.415730</td>\n",
       "      <td>Entire home/apt</td>\n",
       "      <td>50</td>\n",
       "      <td>1</td>\n",
       "      <td>2</td>\n",
       "      <td>2019-12-02</td>\n",
       "      <td>0.06</td>\n",
       "      <td>1</td>\n",
       "      <td>0</td>\n",
       "      <td>0</td>\n",
       "      <td>NaN</td>\n",
       "    </tr>\n",
       "    <tr>\n",
       "      <th>1</th>\n",
       "      <td>11934470</td>\n",
       "      <td>Bright Studio Apartment / 4th fl/ long term</td>\n",
       "      <td>62819516</td>\n",
       "      <td>Carla &amp; Daniel</td>\n",
       "      <td>Neukölln</td>\n",
       "      <td>Reuterstraße</td>\n",
       "      <td>52.492260</td>\n",
       "      <td>13.429370</td>\n",
       "      <td>Entire home/apt</td>\n",
       "      <td>43</td>\n",
       "      <td>30</td>\n",
       "      <td>5</td>\n",
       "      <td>2022-03-29</td>\n",
       "      <td>0.07</td>\n",
       "      <td>2</td>\n",
       "      <td>271</td>\n",
       "      <td>3</td>\n",
       "      <td>NaN</td>\n",
       "    </tr>\n",
       "    <tr>\n",
       "      <th>2</th>\n",
       "      <td>17580693</td>\n",
       "      <td>Gemütliches, Zentrales Zimmer mit Blick ins Grüne</td>\n",
       "      <td>119416956</td>\n",
       "      <td>Sven</td>\n",
       "      <td>Mitte</td>\n",
       "      <td>Parkviertel</td>\n",
       "      <td>52.561510</td>\n",
       "      <td>13.355150</td>\n",
       "      <td>Private room</td>\n",
       "      <td>42</td>\n",
       "      <td>2</td>\n",
       "      <td>31</td>\n",
       "      <td>2022-03-07</td>\n",
       "      <td>0.50</td>\n",
       "      <td>1</td>\n",
       "      <td>10</td>\n",
       "      <td>4</td>\n",
       "      <td>NaN</td>\n",
       "    </tr>\n",
       "    <tr>\n",
       "      <th>3</th>\n",
       "      <td>579471587567149993</td>\n",
       "      <td>Süßes Altbau-Apartment in Schöneberg</td>\n",
       "      <td>9916942</td>\n",
       "      <td>Kirsten</td>\n",
       "      <td>Tempelhof - Schöneberg</td>\n",
       "      <td>Friedenau</td>\n",
       "      <td>52.477266</td>\n",
       "      <td>13.336424</td>\n",
       "      <td>Entire home/apt</td>\n",
       "      <td>52</td>\n",
       "      <td>92</td>\n",
       "      <td>0</td>\n",
       "      <td>NaN</td>\n",
       "      <td>NaN</td>\n",
       "      <td>1</td>\n",
       "      <td>362</td>\n",
       "      <td>0</td>\n",
       "      <td>NaN</td>\n",
       "    </tr>\n",
       "    <tr>\n",
       "      <th>4</th>\n",
       "      <td>17497917</td>\n",
       "      <td>BERLIN MITTE - hotspot - central &amp; calm</td>\n",
       "      <td>5937313</td>\n",
       "      <td>Hyun-Jung</td>\n",
       "      <td>Mitte</td>\n",
       "      <td>Alexanderplatz</td>\n",
       "      <td>52.524380</td>\n",
       "      <td>13.410120</td>\n",
       "      <td>Entire home/apt</td>\n",
       "      <td>106</td>\n",
       "      <td>2</td>\n",
       "      <td>116</td>\n",
       "      <td>2022-05-29</td>\n",
       "      <td>1.84</td>\n",
       "      <td>1</td>\n",
       "      <td>6</td>\n",
       "      <td>25</td>\n",
       "      <td>NaN</td>\n",
       "    </tr>\n",
       "  </tbody>\n",
       "</table>\n",
       "</div>"
      ],
      "text/plain": [
       "                   id                                               name  \\\n",
       "0            39971294                             Cozy flat with chimney   \n",
       "1            11934470        Bright Studio Apartment / 4th fl/ long term   \n",
       "2            17580693  Gemütliches, Zentrales Zimmer mit Blick ins Grüne   \n",
       "3  579471587567149993               Süßes Altbau-Apartment in Schöneberg   \n",
       "4            17497917            BERLIN MITTE - hotspot - central & calm   \n",
       "\n",
       "     host_id       host_name       neighbourhood_group          neighbourhood  \\\n",
       "0   21565256           Tanja  Friedrichshain-Kreuzberg  nördliche Luisenstadt   \n",
       "1   62819516  Carla & Daniel                  Neukölln           Reuterstraße   \n",
       "2  119416956            Sven                     Mitte            Parkviertel   \n",
       "3    9916942         Kirsten    Tempelhof - Schöneberg              Friedenau   \n",
       "4    5937313       Hyun-Jung                     Mitte         Alexanderplatz   \n",
       "\n",
       "    latitude  longitude        room_type  price  minimum_nights  \\\n",
       "0  52.501680  13.415730  Entire home/apt     50               1   \n",
       "1  52.492260  13.429370  Entire home/apt     43              30   \n",
       "2  52.561510  13.355150     Private room     42               2   \n",
       "3  52.477266  13.336424  Entire home/apt     52              92   \n",
       "4  52.524380  13.410120  Entire home/apt    106               2   \n",
       "\n",
       "   number_of_reviews last_review  reviews_per_month  \\\n",
       "0                  2  2019-12-02               0.06   \n",
       "1                  5  2022-03-29               0.07   \n",
       "2                 31  2022-03-07               0.50   \n",
       "3                  0         NaN                NaN   \n",
       "4                116  2022-05-29               1.84   \n",
       "\n",
       "   calculated_host_listings_count  availability_365  number_of_reviews_ltm  \\\n",
       "0                               1                 0                      0   \n",
       "1                               2               271                      3   \n",
       "2                               1                10                      4   \n",
       "3                               1               362                      0   \n",
       "4                               1                 6                     25   \n",
       "\n",
       "  license  \n",
       "0     NaN  \n",
       "1     NaN  \n",
       "2     NaN  \n",
       "3     NaN  \n",
       "4     NaN  "
      ]
     },
     "execution_count": 30,
     "metadata": {},
     "output_type": "execute_result"
    }
   ],
   "source": [
    "df.head()"
   ]
  },
  {
   "cell_type": "markdown",
   "id": "006a08e4",
   "metadata": {},
   "source": [
    "### After initially exploring the dataset, we can make several observations.  There are 18 columns and 16,416 observations. There are a few missing values, as well as many NaN observations under the license column. There are missing values in name,  host_name , last_review and reviews_per_month columnc as well. "
   ]
  },
  {
   "cell_type": "code",
   "execution_count": 31,
   "id": "aabdf3c9",
   "metadata": {},
   "outputs": [
    {
     "data": {
      "text/plain": [
       "id                                    0\n",
       "name                                 24\n",
       "host_id                               0\n",
       "host_name                            10\n",
       "neighbourhood_group                   0\n",
       "neighbourhood                         0\n",
       "latitude                              0\n",
       "longitude                             0\n",
       "room_type                             0\n",
       "price                                 0\n",
       "minimum_nights                        0\n",
       "number_of_reviews                     0\n",
       "last_review                        2883\n",
       "reviews_per_month                  2883\n",
       "calculated_host_listings_count        0\n",
       "availability_365                      0\n",
       "number_of_reviews_ltm                 0\n",
       "license                           11433\n",
       "dtype: int64"
      ]
     },
     "execution_count": 31,
     "metadata": {},
     "output_type": "execute_result"
    }
   ],
   "source": [
    "df.isnull().sum()"
   ]
  },
  {
   "cell_type": "markdown",
   "id": "6c485ef2",
   "metadata": {},
   "source": [
    "### Based on above results, there are several missing observations in 'name' and 'host_name'. However, due to PII data concerns, host_name will be removed from the dataset.\n",
    "### Furthermore, there are 2883 columns with missing values for last_review and reviews_per_month columns. As we do not have further information about 'Nan' values in last_review, we will delete  rows with NaN values in last_review.\n",
    "### We will delete licence columns as this column is irrelevant for this analysis."
   ]
  },
  {
   "cell_type": "markdown",
   "id": "62511c76",
   "metadata": {},
   "source": [
    "# 04. Data Cleaning"
   ]
  },
  {
   "cell_type": "markdown",
   "id": "30345a79",
   "metadata": {},
   "source": [
    "## Dropping Columns/Variables"
   ]
  },
  {
   "cell_type": "code",
   "execution_count": 32,
   "id": "42ed98e4",
   "metadata": {},
   "outputs": [
    {
     "data": {
      "text/html": [
       "<div>\n",
       "<style scoped>\n",
       "    .dataframe tbody tr th:only-of-type {\n",
       "        vertical-align: middle;\n",
       "    }\n",
       "\n",
       "    .dataframe tbody tr th {\n",
       "        vertical-align: top;\n",
       "    }\n",
       "\n",
       "    .dataframe thead th {\n",
       "        text-align: right;\n",
       "    }\n",
       "</style>\n",
       "<table border=\"1\" class=\"dataframe\">\n",
       "  <thead>\n",
       "    <tr style=\"text-align: right;\">\n",
       "      <th></th>\n",
       "      <th>id</th>\n",
       "      <th>name</th>\n",
       "      <th>host_id</th>\n",
       "      <th>neighbourhood_group</th>\n",
       "      <th>neighbourhood</th>\n",
       "      <th>latitude</th>\n",
       "      <th>longitude</th>\n",
       "      <th>room_type</th>\n",
       "      <th>price</th>\n",
       "      <th>minimum_nights</th>\n",
       "      <th>number_of_reviews</th>\n",
       "      <th>last_review</th>\n",
       "      <th>reviews_per_month</th>\n",
       "      <th>calculated_host_listings_count</th>\n",
       "      <th>availability_365</th>\n",
       "      <th>number_of_reviews_ltm</th>\n",
       "    </tr>\n",
       "  </thead>\n",
       "  <tbody>\n",
       "    <tr>\n",
       "      <th>0</th>\n",
       "      <td>39971294</td>\n",
       "      <td>Cozy flat with chimney</td>\n",
       "      <td>21565256</td>\n",
       "      <td>Friedrichshain-Kreuzberg</td>\n",
       "      <td>nördliche Luisenstadt</td>\n",
       "      <td>52.501680</td>\n",
       "      <td>13.415730</td>\n",
       "      <td>Entire home/apt</td>\n",
       "      <td>50</td>\n",
       "      <td>1</td>\n",
       "      <td>2</td>\n",
       "      <td>2019-12-02</td>\n",
       "      <td>0.06</td>\n",
       "      <td>1</td>\n",
       "      <td>0</td>\n",
       "      <td>0</td>\n",
       "    </tr>\n",
       "    <tr>\n",
       "      <th>1</th>\n",
       "      <td>11934470</td>\n",
       "      <td>Bright Studio Apartment / 4th fl/ long term</td>\n",
       "      <td>62819516</td>\n",
       "      <td>Neukölln</td>\n",
       "      <td>Reuterstraße</td>\n",
       "      <td>52.492260</td>\n",
       "      <td>13.429370</td>\n",
       "      <td>Entire home/apt</td>\n",
       "      <td>43</td>\n",
       "      <td>30</td>\n",
       "      <td>5</td>\n",
       "      <td>2022-03-29</td>\n",
       "      <td>0.07</td>\n",
       "      <td>2</td>\n",
       "      <td>271</td>\n",
       "      <td>3</td>\n",
       "    </tr>\n",
       "    <tr>\n",
       "      <th>2</th>\n",
       "      <td>17580693</td>\n",
       "      <td>Gemütliches, Zentrales Zimmer mit Blick ins Grüne</td>\n",
       "      <td>119416956</td>\n",
       "      <td>Mitte</td>\n",
       "      <td>Parkviertel</td>\n",
       "      <td>52.561510</td>\n",
       "      <td>13.355150</td>\n",
       "      <td>Private room</td>\n",
       "      <td>42</td>\n",
       "      <td>2</td>\n",
       "      <td>31</td>\n",
       "      <td>2022-03-07</td>\n",
       "      <td>0.50</td>\n",
       "      <td>1</td>\n",
       "      <td>10</td>\n",
       "      <td>4</td>\n",
       "    </tr>\n",
       "    <tr>\n",
       "      <th>3</th>\n",
       "      <td>579471587567149993</td>\n",
       "      <td>Süßes Altbau-Apartment in Schöneberg</td>\n",
       "      <td>9916942</td>\n",
       "      <td>Tempelhof - Schöneberg</td>\n",
       "      <td>Friedenau</td>\n",
       "      <td>52.477266</td>\n",
       "      <td>13.336424</td>\n",
       "      <td>Entire home/apt</td>\n",
       "      <td>52</td>\n",
       "      <td>92</td>\n",
       "      <td>0</td>\n",
       "      <td>NaN</td>\n",
       "      <td>NaN</td>\n",
       "      <td>1</td>\n",
       "      <td>362</td>\n",
       "      <td>0</td>\n",
       "    </tr>\n",
       "    <tr>\n",
       "      <th>4</th>\n",
       "      <td>17497917</td>\n",
       "      <td>BERLIN MITTE - hotspot - central &amp; calm</td>\n",
       "      <td>5937313</td>\n",
       "      <td>Mitte</td>\n",
       "      <td>Alexanderplatz</td>\n",
       "      <td>52.524380</td>\n",
       "      <td>13.410120</td>\n",
       "      <td>Entire home/apt</td>\n",
       "      <td>106</td>\n",
       "      <td>2</td>\n",
       "      <td>116</td>\n",
       "      <td>2022-05-29</td>\n",
       "      <td>1.84</td>\n",
       "      <td>1</td>\n",
       "      <td>6</td>\n",
       "      <td>25</td>\n",
       "    </tr>\n",
       "  </tbody>\n",
       "</table>\n",
       "</div>"
      ],
      "text/plain": [
       "                   id                                               name  \\\n",
       "0            39971294                             Cozy flat with chimney   \n",
       "1            11934470        Bright Studio Apartment / 4th fl/ long term   \n",
       "2            17580693  Gemütliches, Zentrales Zimmer mit Blick ins Grüne   \n",
       "3  579471587567149993               Süßes Altbau-Apartment in Schöneberg   \n",
       "4            17497917            BERLIN MITTE - hotspot - central & calm   \n",
       "\n",
       "     host_id       neighbourhood_group          neighbourhood   latitude  \\\n",
       "0   21565256  Friedrichshain-Kreuzberg  nördliche Luisenstadt  52.501680   \n",
       "1   62819516                  Neukölln           Reuterstraße  52.492260   \n",
       "2  119416956                     Mitte            Parkviertel  52.561510   \n",
       "3    9916942    Tempelhof - Schöneberg              Friedenau  52.477266   \n",
       "4    5937313                     Mitte         Alexanderplatz  52.524380   \n",
       "\n",
       "   longitude        room_type  price  minimum_nights  number_of_reviews  \\\n",
       "0  13.415730  Entire home/apt     50               1                  2   \n",
       "1  13.429370  Entire home/apt     43              30                  5   \n",
       "2  13.355150     Private room     42               2                 31   \n",
       "3  13.336424  Entire home/apt     52              92                  0   \n",
       "4  13.410120  Entire home/apt    106               2                116   \n",
       "\n",
       "  last_review  reviews_per_month  calculated_host_listings_count  \\\n",
       "0  2019-12-02               0.06                               1   \n",
       "1  2022-03-29               0.07                               2   \n",
       "2  2022-03-07               0.50                               1   \n",
       "3         NaN                NaN                               1   \n",
       "4  2022-05-29               1.84                               1   \n",
       "\n",
       "   availability_365  number_of_reviews_ltm  \n",
       "0                 0                      0  \n",
       "1               271                      3  \n",
       "2                10                      4  \n",
       "3               362                      0  \n",
       "4                 6                     25  "
      ]
     },
     "execution_count": 32,
     "metadata": {},
     "output_type": "execute_result"
    }
   ],
   "source": [
    "# Dropping columns that contain PII data and are irrelavant for this analysis: \n",
    "df.drop(['host_name', 'license'], axis=1, inplace=True)\n",
    "df.head()"
   ]
  },
  {
   "cell_type": "code",
   "execution_count": 33,
   "id": "cf4ff209",
   "metadata": {},
   "outputs": [
    {
     "data": {
      "text/plain": [
       "id                                   0\n",
       "name                                24\n",
       "host_id                              0\n",
       "neighbourhood_group                  0\n",
       "neighbourhood                        0\n",
       "latitude                             0\n",
       "longitude                            0\n",
       "room_type                            0\n",
       "price                                0\n",
       "minimum_nights                       0\n",
       "number_of_reviews                    0\n",
       "last_review                       2883\n",
       "reviews_per_month                 2883\n",
       "calculated_host_listings_count       0\n",
       "availability_365                     0\n",
       "number_of_reviews_ltm                0\n",
       "dtype: int64"
      ]
     },
     "execution_count": 33,
     "metadata": {},
     "output_type": "execute_result"
    }
   ],
   "source": [
    "#checking for null/missing values\n",
    "df.isna().sum()"
   ]
  },
  {
   "cell_type": "markdown",
   "id": "00742acd",
   "metadata": {},
   "source": [
    "## Replacing missing values"
   ]
  },
  {
   "cell_type": "code",
   "execution_count": 34,
   "id": "67014c59",
   "metadata": {},
   "outputs": [],
   "source": [
    "# As we donot have any information about 'NaN' values in last_review column, dropping the index with last_review  = Nan\n",
    "df.dropna(subset = [\"last_review\"], inplace=True)"
   ]
  },
  {
   "cell_type": "code",
   "execution_count": 35,
   "id": "9fdc9406",
   "metadata": {},
   "outputs": [
    {
     "data": {
      "text/plain": [
       "id                                 0\n",
       "name                              12\n",
       "host_id                            0\n",
       "neighbourhood_group                0\n",
       "neighbourhood                      0\n",
       "latitude                           0\n",
       "longitude                          0\n",
       "room_type                          0\n",
       "price                              0\n",
       "minimum_nights                     0\n",
       "number_of_reviews                  0\n",
       "last_review                        0\n",
       "reviews_per_month                  0\n",
       "calculated_host_listings_count     0\n",
       "availability_365                   0\n",
       "number_of_reviews_ltm              0\n",
       "dtype: int64"
      ]
     },
     "execution_count": 35,
     "metadata": {},
     "output_type": "execute_result"
    }
   ],
   "source": [
    "#checking for null/missing values\n",
    "df.isna().sum()"
   ]
  },
  {
   "cell_type": "code",
   "execution_count": 37,
   "id": "b765c7c6",
   "metadata": {},
   "outputs": [],
   "source": [
    "# Replacing all NaN values under \"name\" with 'Unknown'\n",
    "df.fillna({'name':'Unknown'}, inplace=True)"
   ]
  },
  {
   "cell_type": "code",
   "execution_count": 38,
   "id": "67647499",
   "metadata": {},
   "outputs": [
    {
     "data": {
      "text/plain": [
       "id                                0\n",
       "name                              0\n",
       "host_id                           0\n",
       "neighbourhood_group               0\n",
       "neighbourhood                     0\n",
       "latitude                          0\n",
       "longitude                         0\n",
       "room_type                         0\n",
       "price                             0\n",
       "minimum_nights                    0\n",
       "number_of_reviews                 0\n",
       "last_review                       0\n",
       "reviews_per_month                 0\n",
       "calculated_host_listings_count    0\n",
       "availability_365                  0\n",
       "number_of_reviews_ltm             0\n",
       "dtype: int64"
      ]
     },
     "execution_count": 38,
     "metadata": {},
     "output_type": "execute_result"
    }
   ],
   "source": [
    "#checking for null/missing values\n",
    "df.isna().sum()"
   ]
  },
  {
   "cell_type": "code",
   "execution_count": 39,
   "id": "1ede69ae",
   "metadata": {},
   "outputs": [
    {
     "data": {
      "text/plain": [
       "(13533, 16)"
      ]
     },
     "execution_count": 39,
     "metadata": {},
     "output_type": "execute_result"
    }
   ],
   "source": [
    "df.shape"
   ]
  },
  {
   "cell_type": "markdown",
   "id": "ba40af58",
   "metadata": {},
   "source": [
    "## Consistency Check: Categorical Variables"
   ]
  },
  {
   "cell_type": "code",
   "execution_count": 40,
   "id": "5a6c5bdf",
   "metadata": {},
   "outputs": [
    {
     "data": {
      "text/plain": [
       "Entire home/apt    8030\n",
       "Private room       5232\n",
       "Shared room         151\n",
       "Hotel room          120\n",
       "Name: room_type, dtype: int64"
      ]
     },
     "execution_count": 40,
     "metadata": {},
     "output_type": "execute_result"
    }
   ],
   "source": [
    "df['room_type'].value_counts()"
   ]
  },
  {
   "cell_type": "code",
   "execution_count": 41,
   "id": "376889c9",
   "metadata": {},
   "outputs": [
    {
     "data": {
      "text/plain": [
       "Friedrichshain-Kreuzberg    3004\n",
       "Mitte                       2909\n",
       "Pankow                      2180\n",
       "Neukölln                    1835\n",
       "Charlottenburg-Wilm.        1014\n",
       "Tempelhof - Schöneberg       910\n",
       "Treptow - Köpenick           475\n",
       "Lichtenberg                  407\n",
       "Steglitz - Zehlendorf        358\n",
       "Reinickendorf                192\n",
       "Spandau                      140\n",
       "Marzahn - Hellersdorf        109\n",
       "Name: neighbourhood_group, dtype: int64"
      ]
     },
     "execution_count": 41,
     "metadata": {},
     "output_type": "execute_result"
    }
   ],
   "source": [
    "df['neighbourhood_group'].value_counts()"
   ]
  },
  {
   "cell_type": "code",
   "execution_count": 42,
   "id": "3e281629",
   "metadata": {},
   "outputs": [
    {
     "data": {
      "text/html": [
       "<div>\n",
       "<style scoped>\n",
       "    .dataframe tbody tr th:only-of-type {\n",
       "        vertical-align: middle;\n",
       "    }\n",
       "\n",
       "    .dataframe tbody tr th {\n",
       "        vertical-align: top;\n",
       "    }\n",
       "\n",
       "    .dataframe thead th {\n",
       "        text-align: right;\n",
       "    }\n",
       "</style>\n",
       "<table border=\"1\" class=\"dataframe\">\n",
       "  <thead>\n",
       "    <tr style=\"text-align: right;\">\n",
       "      <th></th>\n",
       "      <th>id</th>\n",
       "      <th>name</th>\n",
       "      <th>host_id</th>\n",
       "      <th>neighbourhood_group</th>\n",
       "      <th>neighbourhood</th>\n",
       "      <th>latitude</th>\n",
       "      <th>longitude</th>\n",
       "      <th>room_type</th>\n",
       "      <th>price</th>\n",
       "      <th>minimum_nights</th>\n",
       "      <th>number_of_reviews</th>\n",
       "      <th>last_review</th>\n",
       "      <th>reviews_per_month</th>\n",
       "      <th>calculated_host_listings_count</th>\n",
       "      <th>availability_365</th>\n",
       "      <th>number_of_reviews_ltm</th>\n",
       "    </tr>\n",
       "  </thead>\n",
       "  <tbody>\n",
       "  </tbody>\n",
       "</table>\n",
       "</div>"
      ],
      "text/plain": [
       "Empty DataFrame\n",
       "Columns: [id, name, host_id, neighbourhood_group, neighbourhood, latitude, longitude, room_type, price, minimum_nights, number_of_reviews, last_review, reviews_per_month, calculated_host_listings_count, availability_365, number_of_reviews_ltm]\n",
       "Index: []"
      ]
     },
     "execution_count": 42,
     "metadata": {},
     "output_type": "execute_result"
    }
   ],
   "source": [
    "# checking for duplicates\n",
    "df_dups = df[df.duplicated()]\n",
    "df_dups"
   ]
  },
  {
   "cell_type": "markdown",
   "id": "ea4464d8",
   "metadata": {},
   "source": [
    "## There are no dublicates in the dataframe."
   ]
  },
  {
   "cell_type": "code",
   "execution_count": 43,
   "id": "80ef4cdd",
   "metadata": {},
   "outputs": [],
   "source": [
    "# checking for mixed data type\n",
    "for col in df.columns.tolist():\n",
    "  weird = (df[[col]].applymap(type) != df[[col]].iloc[0].apply(type)).any(axis = 1)\n",
    "  if len (df[weird]) > 0:\n",
    "    print (col)"
   ]
  },
  {
   "cell_type": "markdown",
   "id": "b9667618",
   "metadata": {},
   "source": [
    "## There no mixed data types."
   ]
  },
  {
   "cell_type": "code",
   "execution_count": 44,
   "id": "fa3d1905",
   "metadata": {},
   "outputs": [
    {
     "data": {
      "text/plain": [
       "(13533, 16)"
      ]
     },
     "execution_count": 44,
     "metadata": {},
     "output_type": "execute_result"
    }
   ],
   "source": [
    "# Checking the data shape of cleaned data.\n",
    "df.shape"
   ]
  },
  {
   "cell_type": "code",
   "execution_count": 45,
   "id": "51cf036c",
   "metadata": {},
   "outputs": [
    {
     "data": {
      "text/html": [
       "<div>\n",
       "<style scoped>\n",
       "    .dataframe tbody tr th:only-of-type {\n",
       "        vertical-align: middle;\n",
       "    }\n",
       "\n",
       "    .dataframe tbody tr th {\n",
       "        vertical-align: top;\n",
       "    }\n",
       "\n",
       "    .dataframe thead th {\n",
       "        text-align: right;\n",
       "    }\n",
       "</style>\n",
       "<table border=\"1\" class=\"dataframe\">\n",
       "  <thead>\n",
       "    <tr style=\"text-align: right;\">\n",
       "      <th></th>\n",
       "      <th>id</th>\n",
       "      <th>host_id</th>\n",
       "      <th>latitude</th>\n",
       "      <th>longitude</th>\n",
       "      <th>price</th>\n",
       "      <th>minimum_nights</th>\n",
       "      <th>number_of_reviews</th>\n",
       "      <th>reviews_per_month</th>\n",
       "      <th>calculated_host_listings_count</th>\n",
       "      <th>availability_365</th>\n",
       "      <th>number_of_reviews_ltm</th>\n",
       "    </tr>\n",
       "  </thead>\n",
       "  <tbody>\n",
       "    <tr>\n",
       "      <th>count</th>\n",
       "      <td>1.353300e+04</td>\n",
       "      <td>1.353300e+04</td>\n",
       "      <td>13533.000000</td>\n",
       "      <td>13533.000000</td>\n",
       "      <td>13533.000000</td>\n",
       "      <td>13533.000000</td>\n",
       "      <td>13533.000000</td>\n",
       "      <td>13533.000000</td>\n",
       "      <td>13533.000000</td>\n",
       "      <td>13533.000000</td>\n",
       "      <td>13533.000000</td>\n",
       "    </tr>\n",
       "    <tr>\n",
       "      <th>mean</th>\n",
       "      <td>1.569264e+16</td>\n",
       "      <td>9.567787e+07</td>\n",
       "      <td>52.509526</td>\n",
       "      <td>13.404592</td>\n",
       "      <td>84.987955</td>\n",
       "      <td>9.845858</td>\n",
       "      <td>31.726964</td>\n",
       "      <td>0.770905</td>\n",
       "      <td>2.996379</td>\n",
       "      <td>79.161901</td>\n",
       "      <td>6.991354</td>\n",
       "    </tr>\n",
       "    <tr>\n",
       "      <th>std</th>\n",
       "      <td>9.477258e+16</td>\n",
       "      <td>1.140730e+08</td>\n",
       "      <td>0.035171</td>\n",
       "      <td>0.069812</td>\n",
       "      <td>94.375962</td>\n",
       "      <td>35.794265</td>\n",
       "      <td>63.681117</td>\n",
       "      <td>1.612770</td>\n",
       "      <td>6.192658</td>\n",
       "      <td>113.889181</td>\n",
       "      <td>21.171687</td>\n",
       "    </tr>\n",
       "    <tr>\n",
       "      <th>min</th>\n",
       "      <td>3.176000e+03</td>\n",
       "      <td>1.581000e+03</td>\n",
       "      <td>52.332300</td>\n",
       "      <td>13.072850</td>\n",
       "      <td>0.000000</td>\n",
       "      <td>1.000000</td>\n",
       "      <td>1.000000</td>\n",
       "      <td>0.010000</td>\n",
       "      <td>1.000000</td>\n",
       "      <td>0.000000</td>\n",
       "      <td>0.000000</td>\n",
       "    </tr>\n",
       "    <tr>\n",
       "      <th>25%</th>\n",
       "      <td>1.240587e+07</td>\n",
       "      <td>1.085170e+07</td>\n",
       "      <td>52.489380</td>\n",
       "      <td>13.368900</td>\n",
       "      <td>40.000000</td>\n",
       "      <td>2.000000</td>\n",
       "      <td>3.000000</td>\n",
       "      <td>0.080000</td>\n",
       "      <td>1.000000</td>\n",
       "      <td>0.000000</td>\n",
       "      <td>0.000000</td>\n",
       "    </tr>\n",
       "    <tr>\n",
       "      <th>50%</th>\n",
       "      <td>2.378688e+07</td>\n",
       "      <td>4.269422e+07</td>\n",
       "      <td>52.509770</td>\n",
       "      <td>13.414940</td>\n",
       "      <td>60.000000</td>\n",
       "      <td>3.000000</td>\n",
       "      <td>8.000000</td>\n",
       "      <td>0.260000</td>\n",
       "      <td>1.000000</td>\n",
       "      <td>0.000000</td>\n",
       "      <td>1.000000</td>\n",
       "    </tr>\n",
       "    <tr>\n",
       "      <th>75%</th>\n",
       "      <td>3.947761e+07</td>\n",
       "      <td>1.464621e+08</td>\n",
       "      <td>52.533100</td>\n",
       "      <td>13.439280</td>\n",
       "      <td>99.000000</td>\n",
       "      <td>5.000000</td>\n",
       "      <td>28.000000</td>\n",
       "      <td>0.900000</td>\n",
       "      <td>2.000000</td>\n",
       "      <td>158.000000</td>\n",
       "      <td>6.000000</td>\n",
       "    </tr>\n",
       "    <tr>\n",
       "      <th>max</th>\n",
       "      <td>6.432860e+17</td>\n",
       "      <td>4.607175e+08</td>\n",
       "      <td>52.673960</td>\n",
       "      <td>13.769390</td>\n",
       "      <td>4060.000000</td>\n",
       "      <td>1124.000000</td>\n",
       "      <td>1269.000000</td>\n",
       "      <td>86.910000</td>\n",
       "      <td>50.000000</td>\n",
       "      <td>365.000000</td>\n",
       "      <td>1049.000000</td>\n",
       "    </tr>\n",
       "  </tbody>\n",
       "</table>\n",
       "</div>"
      ],
      "text/plain": [
       "                 id       host_id      latitude     longitude         price  \\\n",
       "count  1.353300e+04  1.353300e+04  13533.000000  13533.000000  13533.000000   \n",
       "mean   1.569264e+16  9.567787e+07     52.509526     13.404592     84.987955   \n",
       "std    9.477258e+16  1.140730e+08      0.035171      0.069812     94.375962   \n",
       "min    3.176000e+03  1.581000e+03     52.332300     13.072850      0.000000   \n",
       "25%    1.240587e+07  1.085170e+07     52.489380     13.368900     40.000000   \n",
       "50%    2.378688e+07  4.269422e+07     52.509770     13.414940     60.000000   \n",
       "75%    3.947761e+07  1.464621e+08     52.533100     13.439280     99.000000   \n",
       "max    6.432860e+17  4.607175e+08     52.673960     13.769390   4060.000000   \n",
       "\n",
       "       minimum_nights  number_of_reviews  reviews_per_month  \\\n",
       "count    13533.000000       13533.000000       13533.000000   \n",
       "mean         9.845858          31.726964           0.770905   \n",
       "std         35.794265          63.681117           1.612770   \n",
       "min          1.000000           1.000000           0.010000   \n",
       "25%          2.000000           3.000000           0.080000   \n",
       "50%          3.000000           8.000000           0.260000   \n",
       "75%          5.000000          28.000000           0.900000   \n",
       "max       1124.000000        1269.000000          86.910000   \n",
       "\n",
       "       calculated_host_listings_count  availability_365  number_of_reviews_ltm  \n",
       "count                    13533.000000      13533.000000           13533.000000  \n",
       "mean                         2.996379         79.161901               6.991354  \n",
       "std                          6.192658        113.889181              21.171687  \n",
       "min                          1.000000          0.000000               0.000000  \n",
       "25%                          1.000000          0.000000               0.000000  \n",
       "50%                          1.000000          0.000000               1.000000  \n",
       "75%                          2.000000        158.000000               6.000000  \n",
       "max                         50.000000        365.000000            1049.000000  "
      ]
     },
     "execution_count": 45,
     "metadata": {},
     "output_type": "execute_result"
    }
   ],
   "source": [
    "df.describe()"
   ]
  },
  {
   "cell_type": "markdown",
   "id": "b0892364",
   "metadata": {},
   "source": [
    "# 05. Exporting Data"
   ]
  },
  {
   "cell_type": "code",
   "execution_count": 46,
   "id": "a23d402a",
   "metadata": {},
   "outputs": [],
   "source": [
    "# exporting the clean data\n",
    "df.to_csv(os.path.join(path,'prepared_data','airbnb_berlin_cleaned.csv'))"
   ]
  },
  {
   "cell_type": "code",
   "execution_count": null,
   "id": "4f72e143",
   "metadata": {},
   "outputs": [],
   "source": []
  }
 ],
 "metadata": {
  "kernelspec": {
   "display_name": "Python 3",
   "language": "python",
   "name": "python3"
  },
  "language_info": {
   "codemirror_mode": {
    "name": "ipython",
    "version": 3
   },
   "file_extension": ".py",
   "mimetype": "text/x-python",
   "name": "python",
   "nbconvert_exporter": "python",
   "pygments_lexer": "ipython3",
   "version": "3.8.8"
  }
 },
 "nbformat": 4,
 "nbformat_minor": 5
}
