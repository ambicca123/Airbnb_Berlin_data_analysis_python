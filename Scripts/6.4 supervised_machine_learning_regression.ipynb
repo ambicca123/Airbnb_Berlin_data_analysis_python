{
 "cells": [
  {
   "cell_type": "markdown",
   "id": "f4c27cbc",
   "metadata": {},
   "source": [
    "# 6.4 Supervised Machine Learning: Regression\n",
    "## This script contains the following:\n",
    "1. Importing libraries and data\n",
    "2. Data cleaning\n",
    "3. Data prep for regression analysis\n",
    "4. Define Hypothesis\n",
    "5. Regression analysis\n",
    "6. Result\n",
    "7. Define New Hypothesis\n",
    "8. New Result"
   ]
  },
  {
   "cell_type": "markdown",
   "id": "a7c453b7",
   "metadata": {},
   "source": [
    "### 01. Importing libraries and data"
   ]
  },
  {
   "cell_type": "code",
   "execution_count": 1,
   "id": "29cc75ab",
   "metadata": {},
   "outputs": [],
   "source": [
    "import pandas as pd\n",
    "import numpy as np\n",
    "import seaborn as sns\n",
    "import matplotlib\n",
    "import matplotlib.pyplot as plt\n",
    "import os\n",
    "import sklearn\n",
    "from sklearn.model_selection import train_test_split \n",
    "from sklearn.linear_model import LinearRegression\n",
    "from sklearn.metrics import mean_squared_error, r2_score\n",
    "from geopy import distance\n",
    "from math import sin, cos, sqrt, atan2, radians\n",
    "from sklearn.neighbors import DistanceMetric"
   ]
  },
  {
   "cell_type": "code",
   "execution_count": 2,
   "id": "24fe743b",
   "metadata": {},
   "outputs": [],
   "source": [
    "%matplotlib inline"
   ]
  },
  {
   "cell_type": "code",
   "execution_count": 3,
   "id": "de66fb1d",
   "metadata": {},
   "outputs": [],
   "source": [
    "# define path\n",
    "path = r'/Users/sudip/Desktop/DATA ANALYST/Projects/Project 6/Data'"
   ]
  },
  {
   "cell_type": "code",
   "execution_count": 4,
   "id": "d70eb3bf",
   "metadata": {},
   "outputs": [],
   "source": [
    "# import data\n",
    "df = pd.read_csv(os.path.join(path, 'prepared_data', 'airbnb_berlin_cleaned_3.csv'))"
   ]
  },
  {
   "cell_type": "markdown",
   "id": "cf2da094",
   "metadata": {},
   "source": [
    "### 02. Data Cleaning"
   ]
  },
  {
   "cell_type": "code",
   "execution_count": 5,
   "id": "ecc93f12",
   "metadata": {},
   "outputs": [
    {
     "data": {
      "text/plain": [
       "Index(['Unnamed: 0', 'Unnamed: 0.1', 'id', 'name', 'host_id', 'district',\n",
       "       'neighbourhood', 'latitude', 'longitude', 'room_type', 'price',\n",
       "       'minimum_nights', 'number_of_reviews', 'last_review',\n",
       "       'reviews_per_month', 'host_total_listings', 'availability_365',\n",
       "       'num_reviews_ltm', 'price_category'],\n",
       "      dtype='object')"
      ]
     },
     "execution_count": 5,
     "metadata": {},
     "output_type": "execute_result"
    }
   ],
   "source": [
    "df.columns"
   ]
  },
  {
   "cell_type": "code",
   "execution_count": 6,
   "id": "b147f1f0",
   "metadata": {},
   "outputs": [],
   "source": [
    "#Removing 'Unnamed' column as it is irrelevant for analysis.\n",
    "df = df.drop(columns= [\"Unnamed: 0\", \"Unnamed: 0.1\"], axis=1)"
   ]
  },
  {
   "cell_type": "code",
   "execution_count": 7,
   "id": "62aefee2",
   "metadata": {},
   "outputs": [
    {
     "data": {
      "text/plain": [
       "Index(['id', 'name', 'host_id', 'district', 'neighbourhood', 'latitude',\n",
       "       'longitude', 'room_type', 'price', 'minimum_nights',\n",
       "       'number_of_reviews', 'last_review', 'reviews_per_month',\n",
       "       'host_total_listings', 'availability_365', 'num_reviews_ltm',\n",
       "       'price_category'],\n",
       "      dtype='object')"
      ]
     },
     "execution_count": 7,
     "metadata": {},
     "output_type": "execute_result"
    }
   ],
   "source": [
    "df.columns"
   ]
  },
  {
   "cell_type": "code",
   "execution_count": 8,
   "id": "b3c71491",
   "metadata": {},
   "outputs": [
    {
     "data": {
      "text/html": [
       "<div>\n",
       "<style scoped>\n",
       "    .dataframe tbody tr th:only-of-type {\n",
       "        vertical-align: middle;\n",
       "    }\n",
       "\n",
       "    .dataframe tbody tr th {\n",
       "        vertical-align: top;\n",
       "    }\n",
       "\n",
       "    .dataframe thead th {\n",
       "        text-align: right;\n",
       "    }\n",
       "</style>\n",
       "<table border=\"1\" class=\"dataframe\">\n",
       "  <thead>\n",
       "    <tr style=\"text-align: right;\">\n",
       "      <th></th>\n",
       "      <th>id</th>\n",
       "      <th>name</th>\n",
       "      <th>host_id</th>\n",
       "      <th>district</th>\n",
       "      <th>neighbourhood</th>\n",
       "      <th>latitude</th>\n",
       "      <th>longitude</th>\n",
       "      <th>room_type</th>\n",
       "      <th>price</th>\n",
       "      <th>minimum_nights</th>\n",
       "      <th>number_of_reviews</th>\n",
       "      <th>last_review</th>\n",
       "      <th>reviews_per_month</th>\n",
       "      <th>host_total_listings</th>\n",
       "      <th>availability_365</th>\n",
       "      <th>num_reviews_ltm</th>\n",
       "      <th>price_category</th>\n",
       "    </tr>\n",
       "  </thead>\n",
       "  <tbody>\n",
       "    <tr>\n",
       "      <th>0</th>\n",
       "      <td>39971294</td>\n",
       "      <td>Cozy flat with chimney</td>\n",
       "      <td>21565256</td>\n",
       "      <td>Friedrichshain-Kreuzberg</td>\n",
       "      <td>nördliche Luisenstadt</td>\n",
       "      <td>52.50168</td>\n",
       "      <td>13.41573</td>\n",
       "      <td>Entire home/apt</td>\n",
       "      <td>50</td>\n",
       "      <td>1</td>\n",
       "      <td>2</td>\n",
       "      <td>2019-12-02</td>\n",
       "      <td>0.06</td>\n",
       "      <td>1</td>\n",
       "      <td>0</td>\n",
       "      <td>0</td>\n",
       "      <td>medium_price</td>\n",
       "    </tr>\n",
       "    <tr>\n",
       "      <th>1</th>\n",
       "      <td>11934470</td>\n",
       "      <td>Bright Studio Apartment / 4th fl/ long term</td>\n",
       "      <td>62819516</td>\n",
       "      <td>Neukölln</td>\n",
       "      <td>Reuterstraße</td>\n",
       "      <td>52.49226</td>\n",
       "      <td>13.42937</td>\n",
       "      <td>Entire home/apt</td>\n",
       "      <td>43</td>\n",
       "      <td>30</td>\n",
       "      <td>5</td>\n",
       "      <td>2022-03-29</td>\n",
       "      <td>0.07</td>\n",
       "      <td>2</td>\n",
       "      <td>271</td>\n",
       "      <td>3</td>\n",
       "      <td>medium_price</td>\n",
       "    </tr>\n",
       "    <tr>\n",
       "      <th>2</th>\n",
       "      <td>17580693</td>\n",
       "      <td>Gemütliches, Zentrales Zimmer mit Blick ins Grüne</td>\n",
       "      <td>119416956</td>\n",
       "      <td>Mitte</td>\n",
       "      <td>Parkviertel</td>\n",
       "      <td>52.56151</td>\n",
       "      <td>13.35515</td>\n",
       "      <td>Private room</td>\n",
       "      <td>42</td>\n",
       "      <td>2</td>\n",
       "      <td>31</td>\n",
       "      <td>2022-03-07</td>\n",
       "      <td>0.50</td>\n",
       "      <td>1</td>\n",
       "      <td>10</td>\n",
       "      <td>4</td>\n",
       "      <td>medium_price</td>\n",
       "    </tr>\n",
       "    <tr>\n",
       "      <th>3</th>\n",
       "      <td>17497917</td>\n",
       "      <td>BERLIN MITTE - hotspot - central &amp; calm</td>\n",
       "      <td>5937313</td>\n",
       "      <td>Mitte</td>\n",
       "      <td>Alexanderplatz</td>\n",
       "      <td>52.52438</td>\n",
       "      <td>13.41012</td>\n",
       "      <td>Entire home/apt</td>\n",
       "      <td>106</td>\n",
       "      <td>2</td>\n",
       "      <td>116</td>\n",
       "      <td>2022-05-29</td>\n",
       "      <td>1.84</td>\n",
       "      <td>1</td>\n",
       "      <td>6</td>\n",
       "      <td>25</td>\n",
       "      <td>high_price</td>\n",
       "    </tr>\n",
       "    <tr>\n",
       "      <th>4</th>\n",
       "      <td>9924899</td>\n",
       "      <td>Charming room in Kreuzberg, Graefekiez</td>\n",
       "      <td>4289187</td>\n",
       "      <td>Friedrichshain-Kreuzberg</td>\n",
       "      <td>Tempelhofer Vorstadt</td>\n",
       "      <td>52.49087</td>\n",
       "      <td>13.41712</td>\n",
       "      <td>Private room</td>\n",
       "      <td>39</td>\n",
       "      <td>3</td>\n",
       "      <td>7</td>\n",
       "      <td>2019-09-20</td>\n",
       "      <td>0.09</td>\n",
       "      <td>2</td>\n",
       "      <td>0</td>\n",
       "      <td>0</td>\n",
       "      <td>medium_price</td>\n",
       "    </tr>\n",
       "  </tbody>\n",
       "</table>\n",
       "</div>"
      ],
      "text/plain": [
       "         id                                               name    host_id  \\\n",
       "0  39971294                             Cozy flat with chimney   21565256   \n",
       "1  11934470        Bright Studio Apartment / 4th fl/ long term   62819516   \n",
       "2  17580693  Gemütliches, Zentrales Zimmer mit Blick ins Grüne  119416956   \n",
       "3  17497917            BERLIN MITTE - hotspot - central & calm    5937313   \n",
       "4   9924899             Charming room in Kreuzberg, Graefekiez    4289187   \n",
       "\n",
       "                   district          neighbourhood  latitude  longitude  \\\n",
       "0  Friedrichshain-Kreuzberg  nördliche Luisenstadt  52.50168   13.41573   \n",
       "1                  Neukölln           Reuterstraße  52.49226   13.42937   \n",
       "2                     Mitte            Parkviertel  52.56151   13.35515   \n",
       "3                     Mitte         Alexanderplatz  52.52438   13.41012   \n",
       "4  Friedrichshain-Kreuzberg   Tempelhofer Vorstadt  52.49087   13.41712   \n",
       "\n",
       "         room_type  price  minimum_nights  number_of_reviews last_review  \\\n",
       "0  Entire home/apt     50               1                  2  2019-12-02   \n",
       "1  Entire home/apt     43              30                  5  2022-03-29   \n",
       "2     Private room     42               2                 31  2022-03-07   \n",
       "3  Entire home/apt    106               2                116  2022-05-29   \n",
       "4     Private room     39               3                  7  2019-09-20   \n",
       "\n",
       "   reviews_per_month  host_total_listings  availability_365  num_reviews_ltm  \\\n",
       "0               0.06                    1                 0                0   \n",
       "1               0.07                    2               271                3   \n",
       "2               0.50                    1                10                4   \n",
       "3               1.84                    1                 6               25   \n",
       "4               0.09                    2                 0                0   \n",
       "\n",
       "  price_category  \n",
       "0   medium_price  \n",
       "1   medium_price  \n",
       "2   medium_price  \n",
       "3     high_price  \n",
       "4   medium_price  "
      ]
     },
     "execution_count": 8,
     "metadata": {},
     "output_type": "execute_result"
    }
   ],
   "source": [
    "df.head()"
   ]
  },
  {
   "cell_type": "code",
   "execution_count": 9,
   "id": "be083d60",
   "metadata": {},
   "outputs": [
    {
     "data": {
      "text/plain": [
       "(12869, 17)"
      ]
     },
     "execution_count": 9,
     "metadata": {},
     "output_type": "execute_result"
    }
   ],
   "source": [
    "df.shape"
   ]
  },
  {
   "cell_type": "markdown",
   "id": "516124f4",
   "metadata": {},
   "source": [
    "#### Missing Values"
   ]
  },
  {
   "cell_type": "code",
   "execution_count": 10,
   "id": "ac3a5371",
   "metadata": {},
   "outputs": [
    {
     "data": {
      "text/plain": [
       "id                     0\n",
       "name                   0\n",
       "host_id                0\n",
       "district               0\n",
       "neighbourhood          0\n",
       "latitude               0\n",
       "longitude              0\n",
       "room_type              0\n",
       "price                  0\n",
       "minimum_nights         0\n",
       "number_of_reviews      0\n",
       "last_review            0\n",
       "reviews_per_month      0\n",
       "host_total_listings    0\n",
       "availability_365       0\n",
       "num_reviews_ltm        0\n",
       "price_category         0\n",
       "dtype: int64"
      ]
     },
     "execution_count": 10,
     "metadata": {},
     "output_type": "execute_result"
    }
   ],
   "source": [
    "# check for missing values\n",
    "df.isnull().sum() # No Missing Values"
   ]
  },
  {
   "cell_type": "markdown",
   "id": "7a34eaed",
   "metadata": {},
   "source": [
    "#### Duplicate check"
   ]
  },
  {
   "cell_type": "code",
   "execution_count": 11,
   "id": "01cc46b3",
   "metadata": {},
   "outputs": [
    {
     "data": {
      "text/plain": [
       "(12869,)"
      ]
     },
     "execution_count": 11,
     "metadata": {},
     "output_type": "execute_result"
    }
   ],
   "source": [
    "dups = df.duplicated()\n",
    "dups.shape # No Dups"
   ]
  },
  {
   "cell_type": "markdown",
   "id": "2f188b9e",
   "metadata": {},
   "source": [
    "##### Extreme values checks"
   ]
  },
  {
   "cell_type": "code",
   "execution_count": 12,
   "id": "7616daa4",
   "metadata": {},
   "outputs": [
    {
     "name": "stderr",
     "output_type": "stream",
     "text": [
      "/Users/sudip/opt/anaconda3/lib/python3.8/site-packages/seaborn/distributions.py:2557: FutureWarning: `distplot` is a deprecated function and will be removed in a future version. Please adapt your code to use either `displot` (a figure-level function with similar flexibility) or `histplot` (an axes-level function for histograms).\n",
      "  warnings.warn(msg, FutureWarning)\n"
     ]
    },
    {
     "data": {
      "text/plain": [
       "<AxesSubplot:xlabel='price', ylabel='Density'>"
      ]
     },
     "execution_count": 12,
     "metadata": {},
     "output_type": "execute_result"
    },
    {
     "data": {
      "image/png": "[encoded data removed]",
      "text/plain": [
       "<Figure size 432x288 with 1 Axes>"
      ]
     },
     "metadata": {
      "needs_background": "light"
     },
     "output_type": "display_data"
    }
   ],
   "source": [
    "sns.distplot(df['price'], bins=25)  # Shows extreme values"
   ]
  },
  {
   "cell_type": "code",
   "execution_count": 13,
   "id": "3d281ce3",
   "metadata": {},
   "outputs": [
    {
     "data": {
      "text/plain": [
       "count    12869.000000\n",
       "mean        75.015852\n",
       "std         51.495651\n",
       "min          8.000000\n",
       "25%         39.000000\n",
       "50%         60.000000\n",
       "75%         95.000000\n",
       "max        283.000000\n",
       "Name: price, dtype: float64"
      ]
     },
     "execution_count": 13,
     "metadata": {},
     "output_type": "execute_result"
    }
   ],
   "source": [
    "df['price'].describe()"
   ]
  },
  {
   "cell_type": "markdown",
   "id": "d2db8849",
   "metadata": {},
   "source": [
    "### 3. Data prep for regression analysis "
   ]
  },
  {
   "cell_type": "code",
   "execution_count": 14,
   "id": "cee59226",
   "metadata": {},
   "outputs": [
    {
     "data": {
      "text/html": [
       "<div>\n",
       "<style scoped>\n",
       "    .dataframe tbody tr th:only-of-type {\n",
       "        vertical-align: middle;\n",
       "    }\n",
       "\n",
       "    .dataframe tbody tr th {\n",
       "        vertical-align: top;\n",
       "    }\n",
       "\n",
       "    .dataframe thead th {\n",
       "        text-align: right;\n",
       "    }\n",
       "</style>\n",
       "<table border=\"1\" class=\"dataframe\">\n",
       "  <thead>\n",
       "    <tr style=\"text-align: right;\">\n",
       "      <th></th>\n",
       "      <th>id</th>\n",
       "      <th>name</th>\n",
       "      <th>host_id</th>\n",
       "      <th>district</th>\n",
       "      <th>neighbourhood</th>\n",
       "      <th>latitude</th>\n",
       "      <th>longitude</th>\n",
       "      <th>room_type</th>\n",
       "      <th>price</th>\n",
       "      <th>minimum_nights</th>\n",
       "      <th>number_of_reviews</th>\n",
       "      <th>last_review</th>\n",
       "      <th>reviews_per_month</th>\n",
       "      <th>host_total_listings</th>\n",
       "      <th>availability_365</th>\n",
       "      <th>num_reviews_ltm</th>\n",
       "      <th>price_category</th>\n",
       "      <th>dist_from_center</th>\n",
       "    </tr>\n",
       "  </thead>\n",
       "  <tbody>\n",
       "    <tr>\n",
       "      <th>0</th>\n",
       "      <td>39971294</td>\n",
       "      <td>Cozy flat with chimney</td>\n",
       "      <td>21565256</td>\n",
       "      <td>Friedrichshain-Kreuzberg</td>\n",
       "      <td>nördliche Luisenstadt</td>\n",
       "      <td>52.50168</td>\n",
       "      <td>13.41573</td>\n",
       "      <td>Entire home/apt</td>\n",
       "      <td>50</td>\n",
       "      <td>1</td>\n",
       "      <td>2</td>\n",
       "      <td>2019-12-02</td>\n",
       "      <td>0.06</td>\n",
       "      <td>1</td>\n",
       "      <td>0</td>\n",
       "      <td>0</td>\n",
       "      <td>medium_price</td>\n",
       "      <td>2.335410</td>\n",
       "    </tr>\n",
       "    <tr>\n",
       "      <th>1</th>\n",
       "      <td>11934470</td>\n",
       "      <td>Bright Studio Apartment / 4th fl/ long term</td>\n",
       "      <td>62819516</td>\n",
       "      <td>Neukölln</td>\n",
       "      <td>Reuterstraße</td>\n",
       "      <td>52.49226</td>\n",
       "      <td>13.42937</td>\n",
       "      <td>Entire home/apt</td>\n",
       "      <td>43</td>\n",
       "      <td>30</td>\n",
       "      <td>5</td>\n",
       "      <td>2022-03-29</td>\n",
       "      <td>0.07</td>\n",
       "      <td>2</td>\n",
       "      <td>271</td>\n",
       "      <td>3</td>\n",
       "      <td>medium_price</td>\n",
       "      <td>4.061674</td>\n",
       "    </tr>\n",
       "    <tr>\n",
       "      <th>2</th>\n",
       "      <td>17580693</td>\n",
       "      <td>Gemütliches, Zentrales Zimmer mit Blick ins Grüne</td>\n",
       "      <td>119416956</td>\n",
       "      <td>Mitte</td>\n",
       "      <td>Parkviertel</td>\n",
       "      <td>52.56151</td>\n",
       "      <td>13.35515</td>\n",
       "      <td>Private room</td>\n",
       "      <td>42</td>\n",
       "      <td>2</td>\n",
       "      <td>31</td>\n",
       "      <td>2022-03-07</td>\n",
       "      <td>0.50</td>\n",
       "      <td>1</td>\n",
       "      <td>10</td>\n",
       "      <td>4</td>\n",
       "      <td>medium_price</td>\n",
       "      <td>7.135688</td>\n",
       "    </tr>\n",
       "    <tr>\n",
       "      <th>3</th>\n",
       "      <td>17497917</td>\n",
       "      <td>BERLIN MITTE - hotspot - central &amp; calm</td>\n",
       "      <td>5937313</td>\n",
       "      <td>Mitte</td>\n",
       "      <td>Alexanderplatz</td>\n",
       "      <td>52.52438</td>\n",
       "      <td>13.41012</td>\n",
       "      <td>Entire home/apt</td>\n",
       "      <td>106</td>\n",
       "      <td>2</td>\n",
       "      <td>116</td>\n",
       "      <td>2022-05-29</td>\n",
       "      <td>1.84</td>\n",
       "      <td>1</td>\n",
       "      <td>6</td>\n",
       "      <td>25</td>\n",
       "      <td>high_price</td>\n",
       "      <td>0.741165</td>\n",
       "    </tr>\n",
       "    <tr>\n",
       "      <th>4</th>\n",
       "      <td>9924899</td>\n",
       "      <td>Charming room in Kreuzberg, Graefekiez</td>\n",
       "      <td>4289187</td>\n",
       "      <td>Friedrichshain-Kreuzberg</td>\n",
       "      <td>Tempelhofer Vorstadt</td>\n",
       "      <td>52.49087</td>\n",
       "      <td>13.41712</td>\n",
       "      <td>Private room</td>\n",
       "      <td>39</td>\n",
       "      <td>3</td>\n",
       "      <td>7</td>\n",
       "      <td>2019-09-20</td>\n",
       "      <td>0.09</td>\n",
       "      <td>2</td>\n",
       "      <td>0</td>\n",
       "      <td>0</td>\n",
       "      <td>medium_price</td>\n",
       "      <td>3.470585</td>\n",
       "    </tr>\n",
       "  </tbody>\n",
       "</table>\n",
       "</div>"
      ],
      "text/plain": [
       "         id                                               name    host_id  \\\n",
       "0  39971294                             Cozy flat with chimney   21565256   \n",
       "1  11934470        Bright Studio Apartment / 4th fl/ long term   62819516   \n",
       "2  17580693  Gemütliches, Zentrales Zimmer mit Blick ins Grüne  119416956   \n",
       "3  17497917            BERLIN MITTE - hotspot - central & calm    5937313   \n",
       "4   9924899             Charming room in Kreuzberg, Graefekiez    4289187   \n",
       "\n",
       "                   district          neighbourhood  latitude  longitude  \\\n",
       "0  Friedrichshain-Kreuzberg  nördliche Luisenstadt  52.50168   13.41573   \n",
       "1                  Neukölln           Reuterstraße  52.49226   13.42937   \n",
       "2                     Mitte            Parkviertel  52.56151   13.35515   \n",
       "3                     Mitte         Alexanderplatz  52.52438   13.41012   \n",
       "4  Friedrichshain-Kreuzberg   Tempelhofer Vorstadt  52.49087   13.41712   \n",
       "\n",
       "         room_type  price  minimum_nights  number_of_reviews last_review  \\\n",
       "0  Entire home/apt     50               1                  2  2019-12-02   \n",
       "1  Entire home/apt     43              30                  5  2022-03-29   \n",
       "2     Private room     42               2                 31  2022-03-07   \n",
       "3  Entire home/apt    106               2                116  2022-05-29   \n",
       "4     Private room     39               3                  7  2019-09-20   \n",
       "\n",
       "   reviews_per_month  host_total_listings  availability_365  num_reviews_ltm  \\\n",
       "0               0.06                    1                 0                0   \n",
       "1               0.07                    2               271                3   \n",
       "2               0.50                    1                10                4   \n",
       "3               1.84                    1                 6               25   \n",
       "4               0.09                    2                 0                0   \n",
       "\n",
       "  price_category  dist_from_center  \n",
       "0   medium_price          2.335410  \n",
       "1   medium_price          4.061674  \n",
       "2   medium_price          7.135688  \n",
       "3     high_price          0.741165  \n",
       "4   medium_price          3.470585  "
      ]
     },
     "execution_count": 14,
     "metadata": {},
     "output_type": "execute_result"
    }
   ],
   "source": [
    "# finding distance from centerof berlin for each listing\n",
    "center_lat = float(52.5200) # center of berlin latitude\n",
    "center_long = float(13.4050) # center of berlin longitude\n",
    "listing_lat = df['latitude']\n",
    "listing_long = df['longitude']\n",
    "\n",
    "df['dist_from_center'] = (((center_lat - listing_lat)**2 + (center_long - listing_long)**2)**0.5)*110\n",
    "df.head()"
   ]
  },
  {
   "cell_type": "code",
   "execution_count": null,
   "id": "9171ba3f",
   "metadata": {},
   "outputs": [],
   "source": []
  },
  {
   "cell_type": "code",
   "execution_count": 15,
   "id": "d80f5757",
   "metadata": {},
   "outputs": [
    {
     "data": {
      "image/png": "[encoded data removed]",
      "text/plain": [
       "<Figure size 432x288 with 1 Axes>"
      ]
     },
     "metadata": {
      "needs_background": "light"
     },
     "output_type": "display_data"
    }
   ],
   "source": [
    "# Create a scatterplot using matplotlib for another look at how the chosen variables plot against each other.\n",
    "df.plot(x = 'dist_from_center', y='price',style='o') # The style option creates a scatterplot; without it, we only have lines.\n",
    "plt.title('Distance from Center vs Price')  \n",
    "plt.xlabel('Distance from Center')  \n",
    "plt.ylabel('Price')  \n",
    "plt.show()"
   ]
  },
  {
   "cell_type": "code",
   "execution_count": 16,
   "id": "7e0aa2c8",
   "metadata": {},
   "outputs": [],
   "source": [
    "# Reshape the variables into NumPy arrays and put them into separate objects.\n",
    "X = df['dist_from_center'].values.reshape(-1,1)\n",
    "y = df['price'].values.reshape(-1,1)"
   ]
  },
  {
   "cell_type": "code",
   "execution_count": 17,
   "id": "704bbf47",
   "metadata": {},
   "outputs": [
    {
     "data": {
      "text/plain": [
       "array([[2.33540984],\n",
       "       [4.06167385],\n",
       "       [7.13568788],\n",
       "       ...,\n",
       "       [6.75479844],\n",
       "       [1.54308477],\n",
       "       [2.90323532]])"
      ]
     },
     "execution_count": 17,
     "metadata": {},
     "output_type": "execute_result"
    }
   ],
   "source": [
    "X"
   ]
  },
  {
   "cell_type": "code",
   "execution_count": 18,
   "id": "79440793",
   "metadata": {},
   "outputs": [
    {
     "data": {
      "text/plain": [
       "array([[ 50],\n",
       "       [ 43],\n",
       "       [ 42],\n",
       "       ...,\n",
       "       [ 60],\n",
       "       [ 36],\n",
       "       [162]])"
      ]
     },
     "execution_count": 18,
     "metadata": {},
     "output_type": "execute_result"
    }
   ],
   "source": [
    "y"
   ]
  },
  {
   "cell_type": "code",
   "execution_count": 19,
   "id": "7da5aac6",
   "metadata": {},
   "outputs": [],
   "source": [
    "# Split data into a training set and a test set.\n",
    "X_train, X_test, y_train, y_test = train_test_split(X, y, test_size=0.3, random_state=0)"
   ]
  },
  {
   "cell_type": "markdown",
   "id": "c5f7899b",
   "metadata": {},
   "source": [
    "### 04. Define Hypothesis: \n",
    "    \n",
    "### If the listing is closer to the center, price gets higher."
   ]
  },
  {
   "cell_type": "markdown",
   "id": "c6d0f07a",
   "metadata": {},
   "source": [
    "### 05. Regression analysis"
   ]
  },
  {
   "cell_type": "code",
   "execution_count": 20,
   "id": "dfe91580",
   "metadata": {},
   "outputs": [],
   "source": [
    "# Create a regression object.\n",
    "\n",
    "regression = LinearRegression()"
   ]
  },
  {
   "cell_type": "code",
   "execution_count": 21,
   "id": "a57ac7c5",
   "metadata": {},
   "outputs": [
    {
     "data": {
      "text/plain": [
       "LinearRegression()"
      ]
     },
     "execution_count": 21,
     "metadata": {},
     "output_type": "execute_result"
    }
   ],
   "source": [
    "# Fit the regression object onto the training set.\n",
    "\n",
    "regression.fit(X_train, y_train)"
   ]
  },
  {
   "cell_type": "code",
   "execution_count": 22,
   "id": "d53acbf2",
   "metadata": {},
   "outputs": [],
   "source": [
    "# Predict the values of y using X.\n",
    "\n",
    "y_predicted = regression.predict(X_test)"
   ]
  },
  {
   "cell_type": "code",
   "execution_count": 23,
   "id": "cdcd8712",
   "metadata": {},
   "outputs": [
    {
     "data": {
      "image/png": "[encoded data removed]",
      "text/plain": [
       "<Figure size 432x288 with 1 Axes>"
      ]
     },
     "metadata": {
      "needs_background": "light"
     },
     "output_type": "display_data"
    }
   ],
   "source": [
    "# Create a plot that shows the regression line from the model on the test set.\n",
    "\n",
    "plot_test = plt\n",
    "plot_test.scatter(X_test, y_test, color='gray', s = 15)\n",
    "plot_test.plot(X_test, y_predicted, color='red', linewidth =3)\n",
    "plot_test.title('Distance from the Center vs Price per Listing (Test set)')\n",
    "plot_test.xlabel('Distance from the Center')\n",
    "plot_test.ylabel('Price per Listing')\n",
    "plot_test.show()"
   ]
  },
  {
   "cell_type": "code",
   "execution_count": 24,
   "id": "9c996a4f",
   "metadata": {},
   "outputs": [],
   "source": [
    "# Create objects that contain the model summary statistics.\n",
    "rmse = mean_squared_error(y_test, y_predicted) # This is the mean squared error\n",
    "r2 = r2_score(y_test, y_predicted) # This is the R2 score. "
   ]
  },
  {
   "cell_type": "code",
   "execution_count": 25,
   "id": "ec571a48",
   "metadata": {},
   "outputs": [
    {
     "name": "stdout",
     "output_type": "stream",
     "text": [
      "Slope: [[-0.48052455]]\n",
      "Mean squared error:  2595.9660223566084\n",
      "R2 score:  0.003377153323805837\n"
     ]
    }
   ],
   "source": [
    "# Print the model summary statistics. This is where you evaluate the performance of the model.\n",
    "\n",
    "print('Slope:' ,regression.coef_)\n",
    "print('Mean squared error: ', rmse)\n",
    "print('R2 score: ', r2)"
   ]
  },
  {
   "cell_type": "code",
   "execution_count": 26,
   "id": "d91710f1",
   "metadata": {},
   "outputs": [
    {
     "data": {
      "text/plain": [
       "array([[76.97655942],\n",
       "       [76.09870816],\n",
       "       [75.56161192],\n",
       "       ...,\n",
       "       [78.11234378],\n",
       "       [77.09130281],\n",
       "       [75.7756753 ]])"
      ]
     },
     "execution_count": 26,
     "metadata": {},
     "output_type": "execute_result"
    }
   ],
   "source": [
    "y_predicted"
   ]
  },
  {
   "cell_type": "code",
   "execution_count": 27,
   "id": "281b5fa1",
   "metadata": {},
   "outputs": [
    {
     "data": {
      "text/html": [
       "<div>\n",
       "<style scoped>\n",
       "    .dataframe tbody tr th:only-of-type {\n",
       "        vertical-align: middle;\n",
       "    }\n",
       "\n",
       "    .dataframe tbody tr th {\n",
       "        vertical-align: top;\n",
       "    }\n",
       "\n",
       "    .dataframe thead th {\n",
       "        text-align: right;\n",
       "    }\n",
       "</style>\n",
       "<table border=\"1\" class=\"dataframe\">\n",
       "  <thead>\n",
       "    <tr style=\"text-align: right;\">\n",
       "      <th></th>\n",
       "      <th>Actual</th>\n",
       "      <th>Predicted</th>\n",
       "    </tr>\n",
       "  </thead>\n",
       "  <tbody>\n",
       "    <tr>\n",
       "      <th>0</th>\n",
       "      <td>140</td>\n",
       "      <td>76.976559</td>\n",
       "    </tr>\n",
       "    <tr>\n",
       "      <th>1</th>\n",
       "      <td>50</td>\n",
       "      <td>76.098708</td>\n",
       "    </tr>\n",
       "    <tr>\n",
       "      <th>2</th>\n",
       "      <td>70</td>\n",
       "      <td>75.561612</td>\n",
       "    </tr>\n",
       "    <tr>\n",
       "      <th>3</th>\n",
       "      <td>149</td>\n",
       "      <td>60.225614</td>\n",
       "    </tr>\n",
       "    <tr>\n",
       "      <th>4</th>\n",
       "      <td>66</td>\n",
       "      <td>76.280391</td>\n",
       "    </tr>\n",
       "    <tr>\n",
       "      <th>5</th>\n",
       "      <td>116</td>\n",
       "      <td>75.521583</td>\n",
       "    </tr>\n",
       "    <tr>\n",
       "      <th>6</th>\n",
       "      <td>90</td>\n",
       "      <td>78.302219</td>\n",
       "    </tr>\n",
       "    <tr>\n",
       "      <th>7</th>\n",
       "      <td>20</td>\n",
       "      <td>76.562565</td>\n",
       "    </tr>\n",
       "    <tr>\n",
       "      <th>8</th>\n",
       "      <td>144</td>\n",
       "      <td>77.923961</td>\n",
       "    </tr>\n",
       "    <tr>\n",
       "      <th>9</th>\n",
       "      <td>101</td>\n",
       "      <td>75.033842</td>\n",
       "    </tr>\n",
       "  </tbody>\n",
       "</table>\n",
       "</div>"
      ],
      "text/plain": [
       "   Actual  Predicted\n",
       "0     140  76.976559\n",
       "1      50  76.098708\n",
       "2      70  75.561612\n",
       "3     149  60.225614\n",
       "4      66  76.280391\n",
       "5     116  75.521583\n",
       "6      90  78.302219\n",
       "7      20  76.562565\n",
       "8     144  77.923961\n",
       "9     101  75.033842"
      ]
     },
     "execution_count": 27,
     "metadata": {},
     "output_type": "execute_result"
    }
   ],
   "source": [
    "# Create a dataframe comparing the actual and predicted values of y.\n",
    "data = pd.DataFrame({'Actual': y_test.flatten(), 'Predicted': y_predicted.flatten()})\n",
    "data.head(10)"
   ]
  },
  {
   "cell_type": "markdown",
   "id": "e4ae2dd4",
   "metadata": {},
   "source": [
    "##### Compare how the regression fits the training set"
   ]
  },
  {
   "cell_type": "code",
   "execution_count": 28,
   "id": "04de2df9",
   "metadata": {},
   "outputs": [],
   "source": [
    "# Predict.\n",
    "y_predicted_train = regression.predict(X_train) # This is predicting X_train!"
   ]
  },
  {
   "cell_type": "code",
   "execution_count": 29,
   "id": "0e181b65",
   "metadata": {},
   "outputs": [],
   "source": [
    "mse = mean_squared_error(y_train, y_predicted_train)\n",
    "r2 = r2_score(y_train, y_predicted_train)"
   ]
  },
  {
   "cell_type": "code",
   "execution_count": 30,
   "id": "d46fbb6c",
   "metadata": {},
   "outputs": [
    {
     "name": "stdout",
     "output_type": "stream",
     "text": [
      "Slope: [[-0.48052455]]\n",
      "Mean squared error:  2595.9660223566084\n",
      "R2 score:  0.0027170012389025056\n"
     ]
    }
   ],
   "source": [
    "print('Slope:' ,regression.coef_)\n",
    "print('Mean squared error: ', rmse)\n",
    "print('R2 score: ', r2)"
   ]
  },
  {
   "cell_type": "code",
   "execution_count": 31,
   "id": "93e0cba7",
   "metadata": {},
   "outputs": [
    {
     "data": {
      "image/png": "[encoded data removed]",
      "text/plain": [
       "<Figure size 432x288 with 1 Axes>"
      ]
     },
     "metadata": {
      "needs_background": "light"
     },
     "output_type": "display_data"
    }
   ],
   "source": [
    "# Visualizing the training set results.\n",
    "\n",
    "plot_train = plt\n",
    "plot_train.scatter(X_train, y_train, color='green', s = 15)\n",
    "plot_train.plot(X_train, y_predicted_train, color='red', linewidth =3)\n",
    "plot_train.title('Distance from the Center Vs Price per Listing(Train set)')\n",
    "plot_train.xlabel('Distance from the Center')\n",
    "plot_train.ylabel('Price per Listing')\n",
    "plot_train.show()"
   ]
  },
  {
   "cell_type": "markdown",
   "id": "75bb7bdc",
   "metadata": {},
   "source": [
    "### 06. Results\n",
    "When looking at the training and test sets, we see some similarities. However, overall, we can observe that the regression analysis indicates that there is not a good fit and a low level of negative correlation between the variables.\n",
    "\n",
    "The slope here means that as X rises (as the distance froma center of berlin rises), y slightly drops (the price per unit drops). It shows there is a weak negative relationship between the variables.\n",
    "\n",
    "However, there is significantly high mean squared errors of 2595 in the test and training regressions respectively. Moreover, the actual and predicted values vary greatly in size. As such, this high level of MSE means that the regression line is not very close to the observations, and therefore is clearly not a good fit. \n",
    "\n",
    "Lastly, we have very low R-squared values of 0.0033 and 0.0027 respectively. After looking at of these, it’s pretty clear that model isn’t performing well which highlights that these variables do not truly impact one another. "
   ]
  },
  {
   "cell_type": "markdown",
   "id": "7cc3cfbe",
   "metadata": {},
   "source": [
    "### 07. Define New Hypothesis \n",
    "As the above model is not performing very well, lets explore other variables which may impact the price of the listings.\n",
    "\n",
    "### If review_scores_cleanliness of the listing is higher, price gets higher."
   ]
  },
  {
   "cell_type": "code",
   "execution_count": 32,
   "id": "e7c17457",
   "metadata": {},
   "outputs": [],
   "source": [
    "# import data set required for hypothesis\n",
    "listings = pd.read_csv(os.path.join(path, 'Original Data','airbnb_berlin', 'listings_2.csv'))"
   ]
  },
  {
   "cell_type": "code",
   "execution_count": 33,
   "id": "065d17c8",
   "metadata": {},
   "outputs": [
    {
     "data": {
      "text/plain": [
       "(16416, 74)"
      ]
     },
     "execution_count": 33,
     "metadata": {},
     "output_type": "execute_result"
    }
   ],
   "source": [
    "listings.shape"
   ]
  },
  {
   "cell_type": "code",
   "execution_count": 34,
   "id": "f7456278",
   "metadata": {},
   "outputs": [
    {
     "data": {
      "text/html": [
       "<div>\n",
       "<style scoped>\n",
       "    .dataframe tbody tr th:only-of-type {\n",
       "        vertical-align: middle;\n",
       "    }\n",
       "\n",
       "    .dataframe tbody tr th {\n",
       "        vertical-align: top;\n",
       "    }\n",
       "\n",
       "    .dataframe thead th {\n",
       "        text-align: right;\n",
       "    }\n",
       "</style>\n",
       "<table border=\"1\" class=\"dataframe\">\n",
       "  <thead>\n",
       "    <tr style=\"text-align: right;\">\n",
       "      <th></th>\n",
       "      <th>id</th>\n",
       "      <th>listing_url</th>\n",
       "      <th>scrape_id</th>\n",
       "      <th>last_scraped</th>\n",
       "      <th>name</th>\n",
       "      <th>description</th>\n",
       "      <th>neighborhood_overview</th>\n",
       "      <th>picture_url</th>\n",
       "      <th>host_id</th>\n",
       "      <th>host_url</th>\n",
       "      <th>...</th>\n",
       "      <th>review_scores_communication</th>\n",
       "      <th>review_scores_location</th>\n",
       "      <th>review_scores_value</th>\n",
       "      <th>license</th>\n",
       "      <th>instant_bookable</th>\n",
       "      <th>calculated_host_listings_count</th>\n",
       "      <th>calculated_host_listings_count_entire_homes</th>\n",
       "      <th>calculated_host_listings_count_private_rooms</th>\n",
       "      <th>calculated_host_listings_count_shared_rooms</th>\n",
       "      <th>reviews_per_month</th>\n",
       "    </tr>\n",
       "  </thead>\n",
       "  <tbody>\n",
       "    <tr>\n",
       "      <th>0</th>\n",
       "      <td>39971294</td>\n",
       "      <td>https://www.airbnb.com/rooms/39971294</td>\n",
       "      <td>20220613034419</td>\n",
       "      <td>2022-06-13</td>\n",
       "      <td>Cozy flat with chimney</td>\n",
       "      <td>NaN</td>\n",
       "      <td>NaN</td>\n",
       "      <td>https://a0.muscache.com/pictures/a10c1d51-2954...</td>\n",
       "      <td>21565256</td>\n",
       "      <td>https://www.airbnb.com/users/show/21565256</td>\n",
       "      <td>...</td>\n",
       "      <td>5.00</td>\n",
       "      <td>5.00</td>\n",
       "      <td>5.00</td>\n",
       "      <td>NaN</td>\n",
       "      <td>f</td>\n",
       "      <td>1</td>\n",
       "      <td>1</td>\n",
       "      <td>0</td>\n",
       "      <td>0</td>\n",
       "      <td>0.06</td>\n",
       "    </tr>\n",
       "    <tr>\n",
       "      <th>1</th>\n",
       "      <td>11934470</td>\n",
       "      <td>https://www.airbnb.com/rooms/11934470</td>\n",
       "      <td>20220613034419</td>\n",
       "      <td>2022-06-13</td>\n",
       "      <td>Bright Studio Apartment / 4th fl/ long term</td>\n",
       "      <td>Just renovedt Studio apartment a few steps fro...</td>\n",
       "      <td>NaN</td>\n",
       "      <td>https://a0.muscache.com/pictures/56a1ce3f-e2c6...</td>\n",
       "      <td>62819516</td>\n",
       "      <td>https://www.airbnb.com/users/show/62819516</td>\n",
       "      <td>...</td>\n",
       "      <td>4.80</td>\n",
       "      <td>4.60</td>\n",
       "      <td>4.20</td>\n",
       "      <td>NaN</td>\n",
       "      <td>t</td>\n",
       "      <td>2</td>\n",
       "      <td>2</td>\n",
       "      <td>0</td>\n",
       "      <td>0</td>\n",
       "      <td>0.07</td>\n",
       "    </tr>\n",
       "    <tr>\n",
       "      <th>2</th>\n",
       "      <td>17580693</td>\n",
       "      <td>https://www.airbnb.com/rooms/17580693</td>\n",
       "      <td>20220613034419</td>\n",
       "      <td>2022-06-13</td>\n",
       "      <td>Gemütliches, Zentrales Zimmer mit Blick ins Grüne</td>\n",
       "      <td>Meine Unterkunft ist gut für paare, alleinreis...</td>\n",
       "      <td>NaN</td>\n",
       "      <td>https://a0.muscache.com/pictures/91db5cb4-ab79...</td>\n",
       "      <td>119416956</td>\n",
       "      <td>https://www.airbnb.com/users/show/119416956</td>\n",
       "      <td>...</td>\n",
       "      <td>4.84</td>\n",
       "      <td>4.71</td>\n",
       "      <td>4.68</td>\n",
       "      <td>NaN</td>\n",
       "      <td>f</td>\n",
       "      <td>1</td>\n",
       "      <td>0</td>\n",
       "      <td>1</td>\n",
       "      <td>0</td>\n",
       "      <td>0.50</td>\n",
       "    </tr>\n",
       "    <tr>\n",
       "      <th>3</th>\n",
       "      <td>579471587567149993</td>\n",
       "      <td>https://www.airbnb.com/rooms/579471587567149993</td>\n",
       "      <td>20220613034419</td>\n",
       "      <td>2022-06-13</td>\n",
       "      <td>Süßes Altbau-Apartment in Schöneberg</td>\n",
       "      <td>Praktikum, berufliches Projekt oder Besuch bei...</td>\n",
       "      <td>NaN</td>\n",
       "      <td>https://a0.muscache.com/pictures/miso/Hosting-...</td>\n",
       "      <td>9916942</td>\n",
       "      <td>https://www.airbnb.com/users/show/9916942</td>\n",
       "      <td>...</td>\n",
       "      <td>NaN</td>\n",
       "      <td>NaN</td>\n",
       "      <td>NaN</td>\n",
       "      <td>NaN</td>\n",
       "      <td>t</td>\n",
       "      <td>1</td>\n",
       "      <td>1</td>\n",
       "      <td>0</td>\n",
       "      <td>0</td>\n",
       "      <td>NaN</td>\n",
       "    </tr>\n",
       "    <tr>\n",
       "      <th>4</th>\n",
       "      <td>17497917</td>\n",
       "      <td>https://www.airbnb.com/rooms/17497917</td>\n",
       "      <td>20220613034419</td>\n",
       "      <td>2022-06-13</td>\n",
       "      <td>BERLIN MITTE - hotspot - central &amp; calm</td>\n",
       "      <td>Sourrounded by shopping stores, coffees in the...</td>\n",
       "      <td>Food recommendation&lt;br /&gt;You would find anythi...</td>\n",
       "      <td>https://a0.muscache.com/pictures/b0745feb-56d3...</td>\n",
       "      <td>5937313</td>\n",
       "      <td>https://www.airbnb.com/users/show/5937313</td>\n",
       "      <td>...</td>\n",
       "      <td>4.87</td>\n",
       "      <td>4.96</td>\n",
       "      <td>4.70</td>\n",
       "      <td>NaN</td>\n",
       "      <td>f</td>\n",
       "      <td>1</td>\n",
       "      <td>1</td>\n",
       "      <td>0</td>\n",
       "      <td>0</td>\n",
       "      <td>1.84</td>\n",
       "    </tr>\n",
       "  </tbody>\n",
       "</table>\n",
       "<p>5 rows × 74 columns</p>\n",
       "</div>"
      ],
      "text/plain": [
       "                   id                                      listing_url  \\\n",
       "0            39971294            https://www.airbnb.com/rooms/39971294   \n",
       "1            11934470            https://www.airbnb.com/rooms/11934470   \n",
       "2            17580693            https://www.airbnb.com/rooms/17580693   \n",
       "3  579471587567149993  https://www.airbnb.com/rooms/579471587567149993   \n",
       "4            17497917            https://www.airbnb.com/rooms/17497917   \n",
       "\n",
       "        scrape_id last_scraped  \\\n",
       "0  20220613034419   2022-06-13   \n",
       "1  20220613034419   2022-06-13   \n",
       "2  20220613034419   2022-06-13   \n",
       "3  20220613034419   2022-06-13   \n",
       "4  20220613034419   2022-06-13   \n",
       "\n",
       "                                                name  \\\n",
       "0                             Cozy flat with chimney   \n",
       "1        Bright Studio Apartment / 4th fl/ long term   \n",
       "2  Gemütliches, Zentrales Zimmer mit Blick ins Grüne   \n",
       "3               Süßes Altbau-Apartment in Schöneberg   \n",
       "4            BERLIN MITTE - hotspot - central & calm   \n",
       "\n",
       "                                         description  \\\n",
       "0                                                NaN   \n",
       "1  Just renovedt Studio apartment a few steps fro...   \n",
       "2  Meine Unterkunft ist gut für paare, alleinreis...   \n",
       "3  Praktikum, berufliches Projekt oder Besuch bei...   \n",
       "4  Sourrounded by shopping stores, coffees in the...   \n",
       "\n",
       "                               neighborhood_overview  \\\n",
       "0                                                NaN   \n",
       "1                                                NaN   \n",
       "2                                                NaN   \n",
       "3                                                NaN   \n",
       "4  Food recommendation<br />You would find anythi...   \n",
       "\n",
       "                                         picture_url    host_id  \\\n",
       "0  https://a0.muscache.com/pictures/a10c1d51-2954...   21565256   \n",
       "1  https://a0.muscache.com/pictures/56a1ce3f-e2c6...   62819516   \n",
       "2  https://a0.muscache.com/pictures/91db5cb4-ab79...  119416956   \n",
       "3  https://a0.muscache.com/pictures/miso/Hosting-...    9916942   \n",
       "4  https://a0.muscache.com/pictures/b0745feb-56d3...    5937313   \n",
       "\n",
       "                                      host_url  ...  \\\n",
       "0   https://www.airbnb.com/users/show/21565256  ...   \n",
       "1   https://www.airbnb.com/users/show/62819516  ...   \n",
       "2  https://www.airbnb.com/users/show/119416956  ...   \n",
       "3    https://www.airbnb.com/users/show/9916942  ...   \n",
       "4    https://www.airbnb.com/users/show/5937313  ...   \n",
       "\n",
       "  review_scores_communication review_scores_location review_scores_value  \\\n",
       "0                        5.00                   5.00                5.00   \n",
       "1                        4.80                   4.60                4.20   \n",
       "2                        4.84                   4.71                4.68   \n",
       "3                         NaN                    NaN                 NaN   \n",
       "4                        4.87                   4.96                4.70   \n",
       "\n",
       "  license instant_bookable calculated_host_listings_count  \\\n",
       "0     NaN                f                              1   \n",
       "1     NaN                t                              2   \n",
       "2     NaN                f                              1   \n",
       "3     NaN                t                              1   \n",
       "4     NaN                f                              1   \n",
       "\n",
       "  calculated_host_listings_count_entire_homes  \\\n",
       "0                                           1   \n",
       "1                                           2   \n",
       "2                                           0   \n",
       "3                                           1   \n",
       "4                                           1   \n",
       "\n",
       "  calculated_host_listings_count_private_rooms  \\\n",
       "0                                            0   \n",
       "1                                            0   \n",
       "2                                            1   \n",
       "3                                            0   \n",
       "4                                            0   \n",
       "\n",
       "  calculated_host_listings_count_shared_rooms reviews_per_month  \n",
       "0                                           0              0.06  \n",
       "1                                           0              0.07  \n",
       "2                                           0              0.50  \n",
       "3                                           0               NaN  \n",
       "4                                           0              1.84  \n",
       "\n",
       "[5 rows x 74 columns]"
      ]
     },
     "execution_count": 34,
     "metadata": {},
     "output_type": "execute_result"
    }
   ],
   "source": [
    "listings.head()"
   ]
  },
  {
   "cell_type": "code",
   "execution_count": 35,
   "id": "b3427d0c",
   "metadata": {},
   "outputs": [
    {
     "data": {
      "text/plain": [
       "Index(['id', 'listing_url', 'scrape_id', 'last_scraped', 'name', 'description',\n",
       "       'neighborhood_overview', 'picture_url', 'host_id', 'host_url',\n",
       "       'host_name', 'host_since', 'host_location', 'host_about',\n",
       "       'host_response_time', 'host_response_rate', 'host_acceptance_rate',\n",
       "       'host_is_superhost', 'host_thumbnail_url', 'host_picture_url',\n",
       "       'host_neighbourhood', 'host_listings_count',\n",
       "       'host_total_listings_count', 'host_verifications',\n",
       "       'host_has_profile_pic', 'host_identity_verified', 'neighbourhood',\n",
       "       'neighbourhood_cleansed', 'neighbourhood_group_cleansed', 'latitude',\n",
       "       'longitude', 'property_type', 'room_type', 'accommodates', 'bathrooms',\n",
       "       'bathrooms_text', 'bedrooms', 'beds', 'amenities', 'price',\n",
       "       'minimum_nights', 'maximum_nights', 'minimum_minimum_nights',\n",
       "       'maximum_minimum_nights', 'minimum_maximum_nights',\n",
       "       'maximum_maximum_nights', 'minimum_nights_avg_ntm',\n",
       "       'maximum_nights_avg_ntm', 'calendar_updated', 'has_availability',\n",
       "       'availability_30', 'availability_60', 'availability_90',\n",
       "       'availability_365', 'calendar_last_scraped', 'number_of_reviews',\n",
       "       'number_of_reviews_ltm', 'number_of_reviews_l30d', 'first_review',\n",
       "       'last_review', 'review_scores_rating', 'review_scores_accuracy',\n",
       "       'review_scores_cleanliness', 'review_scores_checkin',\n",
       "       'review_scores_communication', 'review_scores_location',\n",
       "       'review_scores_value', 'license', 'instant_bookable',\n",
       "       'calculated_host_listings_count',\n",
       "       'calculated_host_listings_count_entire_homes',\n",
       "       'calculated_host_listings_count_private_rooms',\n",
       "       'calculated_host_listings_count_shared_rooms', 'reviews_per_month'],\n",
       "      dtype='object')"
      ]
     },
     "execution_count": 35,
     "metadata": {},
     "output_type": "execute_result"
    }
   ],
   "source": [
    "listings.columns"
   ]
  },
  {
   "cell_type": "code",
   "execution_count": 36,
   "id": "44e68468",
   "metadata": {},
   "outputs": [],
   "source": [
    "# joining only the required columns from the listings data \n",
    "df = pd.merge(df,listings[['id','review_scores_cleanliness']],on='id', how='left')"
   ]
  },
  {
   "cell_type": "code",
   "execution_count": 37,
   "id": "f31b70cc",
   "metadata": {},
   "outputs": [
    {
     "data": {
      "text/html": [
       "<div>\n",
       "<style scoped>\n",
       "    .dataframe tbody tr th:only-of-type {\n",
       "        vertical-align: middle;\n",
       "    }\n",
       "\n",
       "    .dataframe tbody tr th {\n",
       "        vertical-align: top;\n",
       "    }\n",
       "\n",
       "    .dataframe thead th {\n",
       "        text-align: right;\n",
       "    }\n",
       "</style>\n",
       "<table border=\"1\" class=\"dataframe\">\n",
       "  <thead>\n",
       "    <tr style=\"text-align: right;\">\n",
       "      <th></th>\n",
       "      <th>id</th>\n",
       "      <th>name</th>\n",
       "      <th>host_id</th>\n",
       "      <th>district</th>\n",
       "      <th>neighbourhood</th>\n",
       "      <th>latitude</th>\n",
       "      <th>longitude</th>\n",
       "      <th>room_type</th>\n",
       "      <th>price</th>\n",
       "      <th>minimum_nights</th>\n",
       "      <th>number_of_reviews</th>\n",
       "      <th>last_review</th>\n",
       "      <th>reviews_per_month</th>\n",
       "      <th>host_total_listings</th>\n",
       "      <th>availability_365</th>\n",
       "      <th>num_reviews_ltm</th>\n",
       "      <th>price_category</th>\n",
       "      <th>dist_from_center</th>\n",
       "      <th>review_scores_cleanliness</th>\n",
       "    </tr>\n",
       "  </thead>\n",
       "  <tbody>\n",
       "    <tr>\n",
       "      <th>0</th>\n",
       "      <td>39971294</td>\n",
       "      <td>Cozy flat with chimney</td>\n",
       "      <td>21565256</td>\n",
       "      <td>Friedrichshain-Kreuzberg</td>\n",
       "      <td>nördliche Luisenstadt</td>\n",
       "      <td>52.50168</td>\n",
       "      <td>13.41573</td>\n",
       "      <td>Entire home/apt</td>\n",
       "      <td>50</td>\n",
       "      <td>1</td>\n",
       "      <td>2</td>\n",
       "      <td>2019-12-02</td>\n",
       "      <td>0.06</td>\n",
       "      <td>1</td>\n",
       "      <td>0</td>\n",
       "      <td>0</td>\n",
       "      <td>medium_price</td>\n",
       "      <td>2.335410</td>\n",
       "      <td>5.00</td>\n",
       "    </tr>\n",
       "    <tr>\n",
       "      <th>1</th>\n",
       "      <td>11934470</td>\n",
       "      <td>Bright Studio Apartment / 4th fl/ long term</td>\n",
       "      <td>62819516</td>\n",
       "      <td>Neukölln</td>\n",
       "      <td>Reuterstraße</td>\n",
       "      <td>52.49226</td>\n",
       "      <td>13.42937</td>\n",
       "      <td>Entire home/apt</td>\n",
       "      <td>43</td>\n",
       "      <td>30</td>\n",
       "      <td>5</td>\n",
       "      <td>2022-03-29</td>\n",
       "      <td>0.07</td>\n",
       "      <td>2</td>\n",
       "      <td>271</td>\n",
       "      <td>3</td>\n",
       "      <td>medium_price</td>\n",
       "      <td>4.061674</td>\n",
       "      <td>4.80</td>\n",
       "    </tr>\n",
       "    <tr>\n",
       "      <th>2</th>\n",
       "      <td>17580693</td>\n",
       "      <td>Gemütliches, Zentrales Zimmer mit Blick ins Grüne</td>\n",
       "      <td>119416956</td>\n",
       "      <td>Mitte</td>\n",
       "      <td>Parkviertel</td>\n",
       "      <td>52.56151</td>\n",
       "      <td>13.35515</td>\n",
       "      <td>Private room</td>\n",
       "      <td>42</td>\n",
       "      <td>2</td>\n",
       "      <td>31</td>\n",
       "      <td>2022-03-07</td>\n",
       "      <td>0.50</td>\n",
       "      <td>1</td>\n",
       "      <td>10</td>\n",
       "      <td>4</td>\n",
       "      <td>medium_price</td>\n",
       "      <td>7.135688</td>\n",
       "      <td>4.58</td>\n",
       "    </tr>\n",
       "    <tr>\n",
       "      <th>3</th>\n",
       "      <td>17497917</td>\n",
       "      <td>BERLIN MITTE - hotspot - central &amp; calm</td>\n",
       "      <td>5937313</td>\n",
       "      <td>Mitte</td>\n",
       "      <td>Alexanderplatz</td>\n",
       "      <td>52.52438</td>\n",
       "      <td>13.41012</td>\n",
       "      <td>Entire home/apt</td>\n",
       "      <td>106</td>\n",
       "      <td>2</td>\n",
       "      <td>116</td>\n",
       "      <td>2022-05-29</td>\n",
       "      <td>1.84</td>\n",
       "      <td>1</td>\n",
       "      <td>6</td>\n",
       "      <td>25</td>\n",
       "      <td>high_price</td>\n",
       "      <td>0.741165</td>\n",
       "      <td>4.95</td>\n",
       "    </tr>\n",
       "    <tr>\n",
       "      <th>4</th>\n",
       "      <td>9924899</td>\n",
       "      <td>Charming room in Kreuzberg, Graefekiez</td>\n",
       "      <td>4289187</td>\n",
       "      <td>Friedrichshain-Kreuzberg</td>\n",
       "      <td>Tempelhofer Vorstadt</td>\n",
       "      <td>52.49087</td>\n",
       "      <td>13.41712</td>\n",
       "      <td>Private room</td>\n",
       "      <td>39</td>\n",
       "      <td>3</td>\n",
       "      <td>7</td>\n",
       "      <td>2019-09-20</td>\n",
       "      <td>0.09</td>\n",
       "      <td>2</td>\n",
       "      <td>0</td>\n",
       "      <td>0</td>\n",
       "      <td>medium_price</td>\n",
       "      <td>3.470585</td>\n",
       "      <td>4.86</td>\n",
       "    </tr>\n",
       "  </tbody>\n",
       "</table>\n",
       "</div>"
      ],
      "text/plain": [
       "         id                                               name    host_id  \\\n",
       "0  39971294                             Cozy flat with chimney   21565256   \n",
       "1  11934470        Bright Studio Apartment / 4th fl/ long term   62819516   \n",
       "2  17580693  Gemütliches, Zentrales Zimmer mit Blick ins Grüne  119416956   \n",
       "3  17497917            BERLIN MITTE - hotspot - central & calm    5937313   \n",
       "4   9924899             Charming room in Kreuzberg, Graefekiez    4289187   \n",
       "\n",
       "                   district          neighbourhood  latitude  longitude  \\\n",
       "0  Friedrichshain-Kreuzberg  nördliche Luisenstadt  52.50168   13.41573   \n",
       "1                  Neukölln           Reuterstraße  52.49226   13.42937   \n",
       "2                     Mitte            Parkviertel  52.56151   13.35515   \n",
       "3                     Mitte         Alexanderplatz  52.52438   13.41012   \n",
       "4  Friedrichshain-Kreuzberg   Tempelhofer Vorstadt  52.49087   13.41712   \n",
       "\n",
       "         room_type  price  minimum_nights  number_of_reviews last_review  \\\n",
       "0  Entire home/apt     50               1                  2  2019-12-02   \n",
       "1  Entire home/apt     43              30                  5  2022-03-29   \n",
       "2     Private room     42               2                 31  2022-03-07   \n",
       "3  Entire home/apt    106               2                116  2022-05-29   \n",
       "4     Private room     39               3                  7  2019-09-20   \n",
       "\n",
       "   reviews_per_month  host_total_listings  availability_365  num_reviews_ltm  \\\n",
       "0               0.06                    1                 0                0   \n",
       "1               0.07                    2               271                3   \n",
       "2               0.50                    1                10                4   \n",
       "3               1.84                    1                 6               25   \n",
       "4               0.09                    2                 0                0   \n",
       "\n",
       "  price_category  dist_from_center  review_scores_cleanliness  \n",
       "0   medium_price          2.335410                       5.00  \n",
       "1   medium_price          4.061674                       4.80  \n",
       "2   medium_price          7.135688                       4.58  \n",
       "3     high_price          0.741165                       4.95  \n",
       "4   medium_price          3.470585                       4.86  "
      ]
     },
     "execution_count": 37,
     "metadata": {},
     "output_type": "execute_result"
    }
   ],
   "source": [
    "df.head()"
   ]
  },
  {
   "cell_type": "code",
   "execution_count": 38,
   "id": "37731765",
   "metadata": {},
   "outputs": [
    {
     "data": {
      "text/plain": [
       "(12869, 19)"
      ]
     },
     "execution_count": 38,
     "metadata": {},
     "output_type": "execute_result"
    }
   ],
   "source": [
    "df.shape"
   ]
  },
  {
   "cell_type": "code",
   "execution_count": 39,
   "id": "2f3ca7c4",
   "metadata": {
    "scrolled": true
   },
   "outputs": [
    {
     "data": {
      "text/plain": [
       "count    12608.000000\n",
       "mean         4.638880\n",
       "std          0.515466\n",
       "min          0.000000\n",
       "25%          4.500000\n",
       "50%          4.800000\n",
       "75%          5.000000\n",
       "max          5.000000\n",
       "Name: review_scores_cleanliness, dtype: float64"
      ]
     },
     "execution_count": 39,
     "metadata": {},
     "output_type": "execute_result"
    }
   ],
   "source": [
    "df['review_scores_cleanliness'].describe()"
   ]
  },
  {
   "cell_type": "code",
   "execution_count": 40,
   "id": "1f900191",
   "metadata": {},
   "outputs": [],
   "source": [
    "#  Clean the extreme values 0 from the \"review_scores_cleanliness\" variable observed above.\n",
    "df = df[df['review_scores_cleanliness'] > 0] "
   ]
  },
  {
   "cell_type": "code",
   "execution_count": 41,
   "id": "964b06bb",
   "metadata": {},
   "outputs": [
    {
     "data": {
      "text/plain": [
       "(12600, 19)"
      ]
     },
     "execution_count": 41,
     "metadata": {},
     "output_type": "execute_result"
    }
   ],
   "source": [
    "df.shape"
   ]
  },
  {
   "cell_type": "code",
   "execution_count": 42,
   "id": "887becbf",
   "metadata": {},
   "outputs": [
    {
     "data": {
      "image/png": "[encoded data removed]",
      "text/plain": [
       "<Figure size 432x288 with 1 Axes>"
      ]
     },
     "metadata": {
      "needs_background": "light"
     },
     "output_type": "display_data"
    }
   ],
   "source": [
    "# Create a scatterplot using matplotlib for another look at how the chosen variables plot against each other.\n",
    "df.plot(x = 'review_scores_cleanliness', y='price',style='o') # The style option creates a scatterplot; without it, we only have lines.\n",
    "plt.title('Review Score Cleanliness vs Price')  \n",
    "plt.xlabel('Review Score Cleanliness')  \n",
    "plt.ylabel('Price')  \n",
    "plt.show()"
   ]
  },
  {
   "cell_type": "code",
   "execution_count": 43,
   "id": "1f348d9f",
   "metadata": {},
   "outputs": [],
   "source": [
    "# Reshape the variables into NumPy arrays and put them into separate objects.\n",
    "X_2 = df['review_scores_cleanliness'].values.reshape(-1,1)\n",
    "y_2 = df['price'].values.reshape(-1,1)"
   ]
  },
  {
   "cell_type": "code",
   "execution_count": 44,
   "id": "3012b7ff",
   "metadata": {},
   "outputs": [
    {
     "data": {
      "text/plain": [
       "array([[5.  ],\n",
       "       [4.8 ],\n",
       "       [4.58],\n",
       "       ...,\n",
       "       [4.25],\n",
       "       [4.75],\n",
       "       [4.72]])"
      ]
     },
     "execution_count": 44,
     "metadata": {},
     "output_type": "execute_result"
    }
   ],
   "source": [
    "X_2"
   ]
  },
  {
   "cell_type": "code",
   "execution_count": 45,
   "id": "3ee053c9",
   "metadata": {},
   "outputs": [
    {
     "data": {
      "text/plain": [
       "array([[ 50],\n",
       "       [ 43],\n",
       "       [ 42],\n",
       "       ...,\n",
       "       [ 60],\n",
       "       [ 36],\n",
       "       [162]])"
      ]
     },
     "execution_count": 45,
     "metadata": {},
     "output_type": "execute_result"
    }
   ],
   "source": [
    "y_2"
   ]
  },
  {
   "cell_type": "code",
   "execution_count": 46,
   "id": "9977f71f",
   "metadata": {},
   "outputs": [],
   "source": [
    "# Split data into a training set and a test set.\n",
    "\n",
    "X_2_train, X_2_test, y_2_train, y_2_test = train_test_split(X_2, y_2, test_size=0.3, random_state=0)"
   ]
  },
  {
   "cell_type": "code",
   "execution_count": 47,
   "id": "0161d663",
   "metadata": {},
   "outputs": [
    {
     "data": {
      "text/plain": [
       "LinearRegression()"
      ]
     },
     "execution_count": 47,
     "metadata": {},
     "output_type": "execute_result"
    }
   ],
   "source": [
    "# Create a regression object.\n",
    "regression = LinearRegression()  \n",
    "\n",
    "# Fit the regression object onto the training set.\n",
    "regression.fit(X_2_train, y_2_train)"
   ]
  },
  {
   "cell_type": "code",
   "execution_count": 48,
   "id": "eab907cc",
   "metadata": {},
   "outputs": [],
   "source": [
    "# Predict the values of y using X.\n",
    "\n",
    "y_2_predicted = regression.predict(X_2_test)"
   ]
  },
  {
   "cell_type": "code",
   "execution_count": 49,
   "id": "f376f04f",
   "metadata": {},
   "outputs": [
    {
     "data": {
      "image/png": "[encoded data removed]",
      "text/plain": [
       "<Figure size 432x288 with 1 Axes>"
      ]
     },
     "metadata": {
      "needs_background": "light"
     },
     "output_type": "display_data"
    }
   ],
   "source": [
    "# Create a plot that shows the regression line from the model on the test set.\n",
    "\n",
    "plot_test_2 = plt\n",
    "plot_test_2.scatter(X_2_test, y_2_test, color='gray', s = 15)\n",
    "plot_test_2.plot(X_2_test, y_2_predicted, color='red', linewidth =3)\n",
    "plot_test_2.title('Review Score Cleanliness Vs Price per Listing (Test set)')\n",
    "plot_test_2.xlabel('Review Score Cleanlines')\n",
    "plot_test_2.ylabel('Price per Listing')\n",
    "plot_test_2.show()"
   ]
  },
  {
   "cell_type": "code",
   "execution_count": 50,
   "id": "c3c0e9e1",
   "metadata": {},
   "outputs": [],
   "source": [
    "# Create objects that contain the model summary statistics.\n",
    "\n",
    "rmse_2 = mean_squared_error(y_2_test, y_2_predicted) #  mean squared error\n",
    "r2_2 = r2_score(y_2_test, y_2_predicted) #  R2 score. "
   ]
  },
  {
   "cell_type": "code",
   "execution_count": 51,
   "id": "853881f4",
   "metadata": {},
   "outputs": [
    {
     "name": "stdout",
     "output_type": "stream",
     "text": [
      "Slope: [[9.1514739]]\n",
      "Mean squared error:  2607.7389854943995\n",
      "R2 score:  0.008743446960875811\n"
     ]
    }
   ],
   "source": [
    "# Print the model summary statistics. This is where you evaluate the performance of the model.\n",
    "\n",
    "print('Slope:' ,regression.coef_)\n",
    "print('Mean squared error: ', rmse_2)\n",
    "print('R2 score: ', r2_2)"
   ]
  },
  {
   "cell_type": "code",
   "execution_count": 52,
   "id": "7d7892c1",
   "metadata": {},
   "outputs": [
    {
     "data": {
      "text/plain": [
       "array([[79.10598296],\n",
       "       [79.10598296],\n",
       "       [79.10598296],\n",
       "       ...,\n",
       "       [78.92295348],\n",
       "       [79.10598296],\n",
       "       [79.10598296]])"
      ]
     },
     "execution_count": 52,
     "metadata": {},
     "output_type": "execute_result"
    }
   ],
   "source": [
    "y_2_predicted"
   ]
  },
  {
   "cell_type": "code",
   "execution_count": 53,
   "id": "5b613a62",
   "metadata": {},
   "outputs": [
    {
     "data": {
      "text/html": [
       "<div>\n",
       "<style scoped>\n",
       "    .dataframe tbody tr th:only-of-type {\n",
       "        vertical-align: middle;\n",
       "    }\n",
       "\n",
       "    .dataframe tbody tr th {\n",
       "        vertical-align: top;\n",
       "    }\n",
       "\n",
       "    .dataframe thead th {\n",
       "        text-align: right;\n",
       "    }\n",
       "</style>\n",
       "<table border=\"1\" class=\"dataframe\">\n",
       "  <thead>\n",
       "    <tr style=\"text-align: right;\">\n",
       "      <th></th>\n",
       "      <th>Actual</th>\n",
       "      <th>Predicted</th>\n",
       "    </tr>\n",
       "  </thead>\n",
       "  <tbody>\n",
       "    <tr>\n",
       "      <th>0</th>\n",
       "      <td>80</td>\n",
       "      <td>79.105983</td>\n",
       "    </tr>\n",
       "    <tr>\n",
       "      <th>1</th>\n",
       "      <td>65</td>\n",
       "      <td>79.105983</td>\n",
       "    </tr>\n",
       "    <tr>\n",
       "      <th>2</th>\n",
       "      <td>37</td>\n",
       "      <td>79.105983</td>\n",
       "    </tr>\n",
       "    <tr>\n",
       "      <th>3</th>\n",
       "      <td>131</td>\n",
       "      <td>77.824777</td>\n",
       "    </tr>\n",
       "    <tr>\n",
       "      <th>4</th>\n",
       "      <td>120</td>\n",
       "      <td>79.105983</td>\n",
       "    </tr>\n",
       "    <tr>\n",
       "      <th>5</th>\n",
       "      <td>136</td>\n",
       "      <td>78.556895</td>\n",
       "    </tr>\n",
       "    <tr>\n",
       "      <th>6</th>\n",
       "      <td>50</td>\n",
       "      <td>79.105983</td>\n",
       "    </tr>\n",
       "    <tr>\n",
       "      <th>7</th>\n",
       "      <td>32</td>\n",
       "      <td>74.530246</td>\n",
       "    </tr>\n",
       "    <tr>\n",
       "      <th>8</th>\n",
       "      <td>89</td>\n",
       "      <td>78.831439</td>\n",
       "    </tr>\n",
       "    <tr>\n",
       "      <th>9</th>\n",
       "      <td>135</td>\n",
       "      <td>75.353879</td>\n",
       "    </tr>\n",
       "  </tbody>\n",
       "</table>\n",
       "</div>"
      ],
      "text/plain": [
       "   Actual  Predicted\n",
       "0      80  79.105983\n",
       "1      65  79.105983\n",
       "2      37  79.105983\n",
       "3     131  77.824777\n",
       "4     120  79.105983\n",
       "5     136  78.556895\n",
       "6      50  79.105983\n",
       "7      32  74.530246\n",
       "8      89  78.831439\n",
       "9     135  75.353879"
      ]
     },
     "execution_count": 53,
     "metadata": {},
     "output_type": "execute_result"
    }
   ],
   "source": [
    "# Create a dataframe comparing the actual and predicted values of y.\n",
    "\n",
    "data_2 = pd.DataFrame({'Actual': y_2_test.flatten(), 'Predicted': y_2_predicted.flatten()})\n",
    "data_2.head(10)"
   ]
  },
  {
   "cell_type": "markdown",
   "id": "a545ecbb",
   "metadata": {},
   "source": [
    "##### Compare how the regression fits the training set"
   ]
  },
  {
   "cell_type": "code",
   "execution_count": 54,
   "id": "44dc4a92",
   "metadata": {},
   "outputs": [],
   "source": [
    "# Predict.\n",
    "\n",
    "y_2_predicted_train = regression.predict(X_2_train) # This is predicting X_train!"
   ]
  },
  {
   "cell_type": "code",
   "execution_count": 55,
   "id": "bb5e53bb",
   "metadata": {},
   "outputs": [],
   "source": [
    "rmse_2 = mean_squared_error(y_2_train, y_2_predicted_train)\n",
    "r2_2 = r2_score(y_2_train, y_2_predicted_train)"
   ]
  },
  {
   "cell_type": "code",
   "execution_count": 56,
   "id": "4679ec12",
   "metadata": {},
   "outputs": [
    {
     "name": "stdout",
     "output_type": "stream",
     "text": [
      "Slope: [[9.1514739]]\n",
      "Mean squared error:  2669.010880189179\n",
      "R2 score:  0.007484970877679853\n"
     ]
    }
   ],
   "source": [
    "print('Slope:' ,regression.coef_)\n",
    "print('Mean squared error: ', rmse_2)\n",
    "print('R2 score: ', r2_2)"
   ]
  },
  {
   "cell_type": "code",
   "execution_count": 57,
   "id": "aa1c7cbe",
   "metadata": {},
   "outputs": [
    {
     "data": {
      "image/png": "[encoded data removed]",
      "text/plain": [
       "<Figure size 432x288 with 1 Axes>"
      ]
     },
     "metadata": {
      "needs_background": "light"
     },
     "output_type": "display_data"
    }
   ],
   "source": [
    "# Visualizing the training set results.\n",
    "\n",
    "plot_train_2 = plt\n",
    "plot_train_2.scatter(X_2_train, y_2_train, color='blue', s = 15)\n",
    "plot_train_2.plot(X_2_train, y_2_predicted_train, color='red', linewidth =4)\n",
    "plot_train_2.title('Review Score Cleanliness vs Price per Listing (Train set)')\n",
    "plot_train_2.xlabel('Review Score Cleanliness')\n",
    "plot_train_2.ylabel('Price per Listing')\n",
    "plot_train_2.show()"
   ]
  },
  {
   "cell_type": "markdown",
   "id": "66e17270",
   "metadata": {},
   "source": [
    "### 08. New Results\n",
    "When looking at the training and test sets, we see some similarities. However, overall, we can observe that the regression analysis indicates that there is not a good fit and a low level of positive correlation between the variables.\n",
    "\n",
    "The +ve slope of 9 means that as X rises (as the review  secore for cleanliness rises), y slightly drops (the price per listing rises). It shows there is a weak positive relationship between the variables.\n",
    "\n",
    "However, there is very high mean squared errors of 2607 & 2669 in the test and training regressions respectively. Moreover, the actual and predicted values vary greatly in size. As such, this high level of MSE means that the regression line is not very close to the observations, and therefore is clearly not a good fit. \n",
    "\n",
    "Lastly, we have very low R-squared values of 0.0087 and 0.0074 respectively. After looking at of these, it’s pretty clear that model isn’t performing well which highlights that these variables do not truly impact one another. "
   ]
  },
  {
   "cell_type": "markdown",
   "id": "96e14a54",
   "metadata": {},
   "source": [
    "Furthermore, it is likely that the price per night of a stay could be influenced by other factors such as room_type and/or neighborhood_group. As we have already seen in 6.3,there are few neighbourhood_groups where price of the listing are in higher side."
   ]
  },
  {
   "cell_type": "code",
   "execution_count": null,
   "id": "adc704bb",
   "metadata": {},
   "outputs": [],
   "source": [
    "df.to_csv(os.path.join(path,))"
   ]
  }
 ],
 "metadata": {
  "kernelspec": {
   "display_name": "Python 3",
   "language": "python",
   "name": "python3"
  },
  "language_info": {
   "codemirror_mode": {
    "name": "ipython",
    "version": 3
   },
   "file_extension": ".py",
   "mimetype": "text/x-python",
   "name": "python",
   "nbconvert_exporter": "python",
   "pygments_lexer": "ipython3",
   "version": "3.8.8"
  }
 },
 "nbformat": 4,
 "nbformat_minor": 5
}
